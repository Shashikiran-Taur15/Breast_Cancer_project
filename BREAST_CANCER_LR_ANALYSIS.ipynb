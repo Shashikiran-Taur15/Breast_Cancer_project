{
 "cells": [
  {
   "cell_type": "code",
   "execution_count": 96,
   "id": "53d000f3",
   "metadata": {},
   "outputs": [],
   "source": [
    "import numpy as np\n",
    "import pandas as pd\n",
    "\n",
    "import matplotlib.pyplot as plt\n",
    "import seaborn as sns\n",
    "\n",
    "from sklearn.model_selection import train_test_split\n",
    "from sklearn.linear_model import LogisticRegression\n",
    "\n",
    "from sklearn.metrics import confusion_matrix, plot_confusion_matrix, classification_report\n",
    "from sklearn.metrics import precision_score, recall_score, f1_score, accuracy_score\n",
    "from sklearn.metrics import roc_auc_score, roc_curve, precision_recall_curve\n",
    "from statsmodels.stats.outliers_influence import variance_inflation_factor\n",
    "\n",
    "import warnings\n",
    "warnings.filterwarnings('ignore')"
   ]
  },
  {
   "cell_type": "markdown",
   "id": "9de2f6eb",
   "metadata": {},
   "source": [
    "### 1. PROBLEM STATEMENT"
   ]
  },
  {
   "cell_type": "code",
   "execution_count": null,
   "id": "dcac5425",
   "metadata": {},
   "outputs": [],
   "source": [
    "In this notebook I’m going to do a logistic regression analysis of a dataset to classify a tumour as malignant or benign.\n",
    "\n",
    "To check the effectiveness of the model by calculating the accuracy, sensitivity, precision and F1 score.\n",
    "\n",
    "Before we start with the analysis it is important to understand what exactly we are trying to predict and \n",
    "what the information provided, our variables of the dataset, mean. “Benign” refers to a type of medical condition \n",
    "or growth that is not cancerous or dangerous as opposed to “malignant”. The dataset contains 9 independent variables, \n",
    "each of them is a feature that is typically used in breast cancer analysis.\n",
    "\n",
    "Clump thickness\n",
    "is a measure of how thick the cells are within a tumor. Benign cells tend to be grouped in mono-layers, \n",
    "while cancerous - in multi-layer.(Sarkar et al. 2017, p. 1)\n",
    "\n",
    "Uniformity\n",
    "of cell size and uniformity of cell shape are two characteristics that can be used to describe the appearance of cells \n",
    "under a microscope. Here we are checking the degree to which the cells in a sample are similar in size and shape.\n",
    "\n",
    "Marginal adhesion\n",
    "is the degree to which cells in a tissue sample adhere, or stick, to one another at the edges of the sample. \n",
    "Loss of adhesion might be a sign of malignancy.\n",
    "\n",
    "Single\n",
    "epithelial cell size is the size of individual cells in an epithelial tissue sample. Epithelial tissue is a type \n",
    "of tissue that covers the surface of the body and lines internal organs and structures. It is made up of cells \n",
    "that are tightly packed together and held in place by specialized junctions.\n",
    "\n",
    "Bare nuclei\n",
    "refers to cells in a tissue sample that are missing their cell membranes and cytoplasm, leaving only the nucleus visible.\n",
    "\n",
    "Bland\n",
    "chromatin is the appearance of the genetic material (chromatin) in the nucleus of a cell under a microscope. \n",
    "Chromatin is made up of DNA and proteins, and it contains the genetic information that controls the cell’s functions. \n",
    "When the chromatin in a cell’s nucleus is compact and uniform in appearance, it is said to be “bland.”\n",
    "\n",
    "Normal\n",
    "nucleoli are small, spherical structures found within the nucleus of a cell. They are composed of DNA, RNA, \n",
    "and proteins and are responsible for synthesizing ribosomes, which are the cellular structures that produce proteins. \n",
    "Nucleoli are usually visible under a microscope and can vary in size and appearance depending on the stage \n",
    "of the cell cycle and the cell’s function. In normal, healthy cells, nucleoli are usually small and have a distinct, \n",
    "well-defined border.\n",
    "\n",
    "Mitosis\n",
    "is the process of cell division that occurs in all living organisms. During mitosis, a single cell divides into \n",
    "two daughter cells, each of which contains a copy of the parent cell’s DNA. The process of mitosis is essential \n",
    "for the growth and repair of tissues and the production of new cells.\n",
    "\n",
    "\n"
   ]
  },
  {
   "cell_type": "markdown",
   "id": "aac0c8f1",
   "metadata": {},
   "source": [
    "### 2. DATA GATHERING"
   ]
  },
  {
   "cell_type": "code",
   "execution_count": 6,
   "id": "c19b0743",
   "metadata": {},
   "outputs": [
    {
     "data": {
      "text/html": [
       "<div>\n",
       "<style scoped>\n",
       "    .dataframe tbody tr th:only-of-type {\n",
       "        vertical-align: middle;\n",
       "    }\n",
       "\n",
       "    .dataframe tbody tr th {\n",
       "        vertical-align: top;\n",
       "    }\n",
       "\n",
       "    .dataframe thead th {\n",
       "        text-align: right;\n",
       "    }\n",
       "</style>\n",
       "<table border=\"1\" class=\"dataframe\">\n",
       "  <thead>\n",
       "    <tr style=\"text-align: right;\">\n",
       "      <th></th>\n",
       "      <th>Clump Thickness</th>\n",
       "      <th>Uniformity of Cell Size</th>\n",
       "      <th>Uniformity of Cell Shape</th>\n",
       "      <th>Marginal Adhesion</th>\n",
       "      <th>Single Epithelial Cell Size</th>\n",
       "      <th>Bare Nuclei</th>\n",
       "      <th>Bland Chromatin</th>\n",
       "      <th>Normal Nucleoli</th>\n",
       "      <th>Mitoses</th>\n",
       "      <th>Class</th>\n",
       "    </tr>\n",
       "  </thead>\n",
       "  <tbody>\n",
       "    <tr>\n",
       "      <th>0</th>\n",
       "      <td>5</td>\n",
       "      <td>1</td>\n",
       "      <td>1</td>\n",
       "      <td>1</td>\n",
       "      <td>2</td>\n",
       "      <td>1</td>\n",
       "      <td>3</td>\n",
       "      <td>1</td>\n",
       "      <td>1</td>\n",
       "      <td>2</td>\n",
       "    </tr>\n",
       "    <tr>\n",
       "      <th>1</th>\n",
       "      <td>5</td>\n",
       "      <td>4</td>\n",
       "      <td>4</td>\n",
       "      <td>5</td>\n",
       "      <td>7</td>\n",
       "      <td>10</td>\n",
       "      <td>3</td>\n",
       "      <td>2</td>\n",
       "      <td>1</td>\n",
       "      <td>2</td>\n",
       "    </tr>\n",
       "    <tr>\n",
       "      <th>2</th>\n",
       "      <td>3</td>\n",
       "      <td>1</td>\n",
       "      <td>1</td>\n",
       "      <td>1</td>\n",
       "      <td>2</td>\n",
       "      <td>2</td>\n",
       "      <td>3</td>\n",
       "      <td>1</td>\n",
       "      <td>1</td>\n",
       "      <td>2</td>\n",
       "    </tr>\n",
       "    <tr>\n",
       "      <th>3</th>\n",
       "      <td>6</td>\n",
       "      <td>8</td>\n",
       "      <td>8</td>\n",
       "      <td>1</td>\n",
       "      <td>3</td>\n",
       "      <td>4</td>\n",
       "      <td>3</td>\n",
       "      <td>7</td>\n",
       "      <td>1</td>\n",
       "      <td>2</td>\n",
       "    </tr>\n",
       "    <tr>\n",
       "      <th>4</th>\n",
       "      <td>4</td>\n",
       "      <td>1</td>\n",
       "      <td>1</td>\n",
       "      <td>3</td>\n",
       "      <td>2</td>\n",
       "      <td>1</td>\n",
       "      <td>3</td>\n",
       "      <td>1</td>\n",
       "      <td>1</td>\n",
       "      <td>2</td>\n",
       "    </tr>\n",
       "    <tr>\n",
       "      <th>...</th>\n",
       "      <td>...</td>\n",
       "      <td>...</td>\n",
       "      <td>...</td>\n",
       "      <td>...</td>\n",
       "      <td>...</td>\n",
       "      <td>...</td>\n",
       "      <td>...</td>\n",
       "      <td>...</td>\n",
       "      <td>...</td>\n",
       "      <td>...</td>\n",
       "    </tr>\n",
       "    <tr>\n",
       "      <th>678</th>\n",
       "      <td>3</td>\n",
       "      <td>1</td>\n",
       "      <td>1</td>\n",
       "      <td>1</td>\n",
       "      <td>3</td>\n",
       "      <td>2</td>\n",
       "      <td>1</td>\n",
       "      <td>1</td>\n",
       "      <td>1</td>\n",
       "      <td>2</td>\n",
       "    </tr>\n",
       "    <tr>\n",
       "      <th>679</th>\n",
       "      <td>2</td>\n",
       "      <td>1</td>\n",
       "      <td>1</td>\n",
       "      <td>1</td>\n",
       "      <td>2</td>\n",
       "      <td>1</td>\n",
       "      <td>1</td>\n",
       "      <td>1</td>\n",
       "      <td>1</td>\n",
       "      <td>2</td>\n",
       "    </tr>\n",
       "    <tr>\n",
       "      <th>680</th>\n",
       "      <td>5</td>\n",
       "      <td>10</td>\n",
       "      <td>10</td>\n",
       "      <td>3</td>\n",
       "      <td>7</td>\n",
       "      <td>3</td>\n",
       "      <td>8</td>\n",
       "      <td>10</td>\n",
       "      <td>2</td>\n",
       "      <td>4</td>\n",
       "    </tr>\n",
       "    <tr>\n",
       "      <th>681</th>\n",
       "      <td>4</td>\n",
       "      <td>8</td>\n",
       "      <td>6</td>\n",
       "      <td>4</td>\n",
       "      <td>3</td>\n",
       "      <td>4</td>\n",
       "      <td>10</td>\n",
       "      <td>6</td>\n",
       "      <td>1</td>\n",
       "      <td>4</td>\n",
       "    </tr>\n",
       "    <tr>\n",
       "      <th>682</th>\n",
       "      <td>4</td>\n",
       "      <td>8</td>\n",
       "      <td>8</td>\n",
       "      <td>5</td>\n",
       "      <td>4</td>\n",
       "      <td>5</td>\n",
       "      <td>10</td>\n",
       "      <td>4</td>\n",
       "      <td>1</td>\n",
       "      <td>4</td>\n",
       "    </tr>\n",
       "  </tbody>\n",
       "</table>\n",
       "<p>683 rows × 10 columns</p>\n",
       "</div>"
      ],
      "text/plain": [
       "     Clump Thickness  Uniformity of Cell Size  Uniformity of Cell Shape  \\\n",
       "0                  5                        1                         1   \n",
       "1                  5                        4                         4   \n",
       "2                  3                        1                         1   \n",
       "3                  6                        8                         8   \n",
       "4                  4                        1                         1   \n",
       "..               ...                      ...                       ...   \n",
       "678                3                        1                         1   \n",
       "679                2                        1                         1   \n",
       "680                5                       10                        10   \n",
       "681                4                        8                         6   \n",
       "682                4                        8                         8   \n",
       "\n",
       "     Marginal Adhesion  Single Epithelial Cell Size  Bare Nuclei  \\\n",
       "0                    1                            2            1   \n",
       "1                    5                            7           10   \n",
       "2                    1                            2            2   \n",
       "3                    1                            3            4   \n",
       "4                    3                            2            1   \n",
       "..                 ...                          ...          ...   \n",
       "678                  1                            3            2   \n",
       "679                  1                            2            1   \n",
       "680                  3                            7            3   \n",
       "681                  4                            3            4   \n",
       "682                  5                            4            5   \n",
       "\n",
       "     Bland Chromatin  Normal Nucleoli  Mitoses  Class  \n",
       "0                  3                1        1      2  \n",
       "1                  3                2        1      2  \n",
       "2                  3                1        1      2  \n",
       "3                  3                7        1      2  \n",
       "4                  3                1        1      2  \n",
       "..               ...              ...      ...    ...  \n",
       "678                1                1        1      2  \n",
       "679                1                1        1      2  \n",
       "680                8               10        2      4  \n",
       "681               10                6        1      4  \n",
       "682               10                4        1      4  \n",
       "\n",
       "[683 rows x 10 columns]"
      ]
     },
     "execution_count": 6,
     "metadata": {},
     "output_type": "execute_result"
    }
   ],
   "source": [
    "Breast_df = pd.read_csv('DATA/breast_cancer.csv')\n",
    "Breast_df"
   ]
  },
  {
   "cell_type": "code",
   "execution_count": 7,
   "id": "89c89d87",
   "metadata": {},
   "outputs": [
    {
     "name": "stdout",
     "output_type": "stream",
     "text": [
      "<class 'pandas.core.frame.DataFrame'>\n",
      "RangeIndex: 683 entries, 0 to 682\n",
      "Data columns (total 10 columns):\n",
      " #   Column                       Non-Null Count  Dtype\n",
      "---  ------                       --------------  -----\n",
      " 0   Clump Thickness              683 non-null    int64\n",
      " 1   Uniformity of Cell Size      683 non-null    int64\n",
      " 2   Uniformity of Cell Shape     683 non-null    int64\n",
      " 3   Marginal Adhesion            683 non-null    int64\n",
      " 4   Single Epithelial Cell Size  683 non-null    int64\n",
      " 5   Bare Nuclei                  683 non-null    int64\n",
      " 6   Bland Chromatin              683 non-null    int64\n",
      " 7   Normal Nucleoli              683 non-null    int64\n",
      " 8   Mitoses                      683 non-null    int64\n",
      " 9   Class                        683 non-null    int64\n",
      "dtypes: int64(10)\n",
      "memory usage: 53.5 KB\n"
     ]
    }
   ],
   "source": [
    "Breast_df.info()"
   ]
  },
  {
   "cell_type": "code",
   "execution_count": 9,
   "id": "1e7c18de",
   "metadata": {},
   "outputs": [
    {
     "data": {
      "text/plain": [
       "Clump Thickness                0\n",
       "Uniformity of Cell Size        0\n",
       "Uniformity of Cell Shape       0\n",
       "Marginal Adhesion              0\n",
       "Single Epithelial Cell Size    0\n",
       "Bare Nuclei                    0\n",
       "Bland Chromatin                0\n",
       "Normal Nucleoli                0\n",
       "Mitoses                        0\n",
       "Class                          0\n",
       "dtype: int64"
      ]
     },
     "execution_count": 9,
     "metadata": {},
     "output_type": "execute_result"
    }
   ],
   "source": [
    "Breast_df.isna().sum()"
   ]
  },
  {
   "cell_type": "code",
   "execution_count": null,
   "id": "85ffca8a",
   "metadata": {},
   "outputs": [],
   "source": []
  },
  {
   "cell_type": "code",
   "execution_count": 14,
   "id": "dc593a85",
   "metadata": {
    "scrolled": true
   },
   "outputs": [
    {
     "data": {
      "text/plain": [
       "1     139\n",
       "5     128\n",
       "3     104\n",
       "4      79\n",
       "10     69\n",
       "2      50\n",
       "8      44\n",
       "6      33\n",
       "7      23\n",
       "9      14\n",
       "Name: Clump Thickness, dtype: int64"
      ]
     },
     "execution_count": 14,
     "metadata": {},
     "output_type": "execute_result"
    }
   ],
   "source": [
    "Breast_df['Clump Thickness'].value_counts()"
   ]
  },
  {
   "cell_type": "code",
   "execution_count": 15,
   "id": "72bbd88a",
   "metadata": {},
   "outputs": [
    {
     "data": {
      "text/plain": [
       "1     373\n",
       "10     67\n",
       "3      52\n",
       "2      45\n",
       "4      38\n",
       "5      30\n",
       "8      28\n",
       "6      25\n",
       "7      19\n",
       "9       6\n",
       "Name: Uniformity of Cell Size, dtype: int64"
      ]
     },
     "execution_count": 15,
     "metadata": {},
     "output_type": "execute_result"
    }
   ],
   "source": [
    "Breast_df['Uniformity of Cell Size'].value_counts()"
   ]
  },
  {
   "cell_type": "code",
   "execution_count": 18,
   "id": "800454cc",
   "metadata": {},
   "outputs": [
    {
     "data": {
      "text/plain": [
       "2    444\n",
       "4    239\n",
       "Name: Class, dtype: int64"
      ]
     },
     "execution_count": 18,
     "metadata": {},
     "output_type": "execute_result"
    }
   ],
   "source": [
    "Breast_df['Class'].value_counts()"
   ]
  },
  {
   "cell_type": "code",
   "execution_count": 30,
   "id": "8d6b78df",
   "metadata": {},
   "outputs": [
    {
     "data": {
      "text/plain": [
       "1     393\n",
       "3      58\n",
       "2      58\n",
       "10     55\n",
       "4      33\n",
       "8      25\n",
       "5      23\n",
       "6      21\n",
       "7      13\n",
       "9       4\n",
       "Name: Marginal Adhesion, dtype: int64"
      ]
     },
     "execution_count": 30,
     "metadata": {},
     "output_type": "execute_result"
    }
   ],
   "source": [
    "Breast_df['Marginal Adhesion'].value_counts()"
   ]
  },
  {
   "cell_type": "code",
   "execution_count": 19,
   "id": "b06dd734",
   "metadata": {},
   "outputs": [],
   "source": [
    "Breast_df['Class'].replace({2:0, 4:1}, inplace=True)"
   ]
  },
  {
   "cell_type": "code",
   "execution_count": 21,
   "id": "d9f3b546",
   "metadata": {
    "scrolled": true
   },
   "outputs": [
    {
     "data": {
      "text/html": [
       "<div>\n",
       "<style scoped>\n",
       "    .dataframe tbody tr th:only-of-type {\n",
       "        vertical-align: middle;\n",
       "    }\n",
       "\n",
       "    .dataframe tbody tr th {\n",
       "        vertical-align: top;\n",
       "    }\n",
       "\n",
       "    .dataframe thead th {\n",
       "        text-align: right;\n",
       "    }\n",
       "</style>\n",
       "<table border=\"1\" class=\"dataframe\">\n",
       "  <thead>\n",
       "    <tr style=\"text-align: right;\">\n",
       "      <th></th>\n",
       "      <th>Clump Thickness</th>\n",
       "      <th>Uniformity of Cell Size</th>\n",
       "      <th>Uniformity of Cell Shape</th>\n",
       "      <th>Marginal Adhesion</th>\n",
       "      <th>Single Epithelial Cell Size</th>\n",
       "      <th>Bare Nuclei</th>\n",
       "      <th>Bland Chromatin</th>\n",
       "      <th>Normal Nucleoli</th>\n",
       "      <th>Mitoses</th>\n",
       "      <th>Class</th>\n",
       "    </tr>\n",
       "  </thead>\n",
       "  <tbody>\n",
       "    <tr>\n",
       "      <th>0</th>\n",
       "      <td>5</td>\n",
       "      <td>1</td>\n",
       "      <td>1</td>\n",
       "      <td>1</td>\n",
       "      <td>2</td>\n",
       "      <td>1</td>\n",
       "      <td>3</td>\n",
       "      <td>1</td>\n",
       "      <td>1</td>\n",
       "      <td>0</td>\n",
       "    </tr>\n",
       "    <tr>\n",
       "      <th>1</th>\n",
       "      <td>5</td>\n",
       "      <td>4</td>\n",
       "      <td>4</td>\n",
       "      <td>5</td>\n",
       "      <td>7</td>\n",
       "      <td>10</td>\n",
       "      <td>3</td>\n",
       "      <td>2</td>\n",
       "      <td>1</td>\n",
       "      <td>0</td>\n",
       "    </tr>\n",
       "    <tr>\n",
       "      <th>2</th>\n",
       "      <td>3</td>\n",
       "      <td>1</td>\n",
       "      <td>1</td>\n",
       "      <td>1</td>\n",
       "      <td>2</td>\n",
       "      <td>2</td>\n",
       "      <td>3</td>\n",
       "      <td>1</td>\n",
       "      <td>1</td>\n",
       "      <td>0</td>\n",
       "    </tr>\n",
       "    <tr>\n",
       "      <th>3</th>\n",
       "      <td>6</td>\n",
       "      <td>8</td>\n",
       "      <td>8</td>\n",
       "      <td>1</td>\n",
       "      <td>3</td>\n",
       "      <td>4</td>\n",
       "      <td>3</td>\n",
       "      <td>7</td>\n",
       "      <td>1</td>\n",
       "      <td>0</td>\n",
       "    </tr>\n",
       "    <tr>\n",
       "      <th>4</th>\n",
       "      <td>4</td>\n",
       "      <td>1</td>\n",
       "      <td>1</td>\n",
       "      <td>3</td>\n",
       "      <td>2</td>\n",
       "      <td>1</td>\n",
       "      <td>3</td>\n",
       "      <td>1</td>\n",
       "      <td>1</td>\n",
       "      <td>0</td>\n",
       "    </tr>\n",
       "  </tbody>\n",
       "</table>\n",
       "</div>"
      ],
      "text/plain": [
       "   Clump Thickness  Uniformity of Cell Size  Uniformity of Cell Shape  \\\n",
       "0                5                        1                         1   \n",
       "1                5                        4                         4   \n",
       "2                3                        1                         1   \n",
       "3                6                        8                         8   \n",
       "4                4                        1                         1   \n",
       "\n",
       "   Marginal Adhesion  Single Epithelial Cell Size  Bare Nuclei  \\\n",
       "0                  1                            2            1   \n",
       "1                  5                            7           10   \n",
       "2                  1                            2            2   \n",
       "3                  1                            3            4   \n",
       "4                  3                            2            1   \n",
       "\n",
       "   Bland Chromatin  Normal Nucleoli  Mitoses  Class  \n",
       "0                3                1        1      0  \n",
       "1                3                2        1      0  \n",
       "2                3                1        1      0  \n",
       "3                3                7        1      0  \n",
       "4                3                1        1      0  "
      ]
     },
     "execution_count": 21,
     "metadata": {},
     "output_type": "execute_result"
    }
   ],
   "source": [
    "Breast_df.head()"
   ]
  },
  {
   "cell_type": "code",
   "execution_count": 49,
   "id": "dcf2cc26",
   "metadata": {},
   "outputs": [],
   "source": [
    "Breast_df.columns = list(['Clump_Thickness', 'Uniformity_of_Cell_Size',\n",
    "       'Uniformity_of_Cell_Shape', 'Marginal_Adhesion',\n",
    "       'Single_Epithelial_Cell_Size', 'Bare_Nuclei', 'Bland_Chromatin',\n",
    "       'Normal_Nucleoli', 'Mitoses', 'Class'])"
   ]
  },
  {
   "cell_type": "code",
   "execution_count": 50,
   "id": "4291ef0a",
   "metadata": {},
   "outputs": [
    {
     "data": {
      "text/html": [
       "<div>\n",
       "<style scoped>\n",
       "    .dataframe tbody tr th:only-of-type {\n",
       "        vertical-align: middle;\n",
       "    }\n",
       "\n",
       "    .dataframe tbody tr th {\n",
       "        vertical-align: top;\n",
       "    }\n",
       "\n",
       "    .dataframe thead th {\n",
       "        text-align: right;\n",
       "    }\n",
       "</style>\n",
       "<table border=\"1\" class=\"dataframe\">\n",
       "  <thead>\n",
       "    <tr style=\"text-align: right;\">\n",
       "      <th></th>\n",
       "      <th>Clump_Thickness</th>\n",
       "      <th>Uniformity_of_Cell_Size</th>\n",
       "      <th>Uniformity_of_Cell_Shape</th>\n",
       "      <th>Marginal_Adhesion</th>\n",
       "      <th>Single_Epithelial_Cell_Size</th>\n",
       "      <th>Bare_Nuclei</th>\n",
       "      <th>Bland_Chromatin</th>\n",
       "      <th>Normal_Nucleoli</th>\n",
       "      <th>Mitoses</th>\n",
       "      <th>Class</th>\n",
       "    </tr>\n",
       "  </thead>\n",
       "  <tbody>\n",
       "    <tr>\n",
       "      <th>0</th>\n",
       "      <td>5</td>\n",
       "      <td>1</td>\n",
       "      <td>1</td>\n",
       "      <td>1.0</td>\n",
       "      <td>2</td>\n",
       "      <td>1</td>\n",
       "      <td>3</td>\n",
       "      <td>1</td>\n",
       "      <td>1</td>\n",
       "      <td>0</td>\n",
       "    </tr>\n",
       "    <tr>\n",
       "      <th>1</th>\n",
       "      <td>5</td>\n",
       "      <td>4</td>\n",
       "      <td>4</td>\n",
       "      <td>1.0</td>\n",
       "      <td>7</td>\n",
       "      <td>10</td>\n",
       "      <td>3</td>\n",
       "      <td>2</td>\n",
       "      <td>1</td>\n",
       "      <td>0</td>\n",
       "    </tr>\n",
       "    <tr>\n",
       "      <th>2</th>\n",
       "      <td>3</td>\n",
       "      <td>1</td>\n",
       "      <td>1</td>\n",
       "      <td>1.0</td>\n",
       "      <td>2</td>\n",
       "      <td>2</td>\n",
       "      <td>3</td>\n",
       "      <td>1</td>\n",
       "      <td>1</td>\n",
       "      <td>0</td>\n",
       "    </tr>\n",
       "    <tr>\n",
       "      <th>3</th>\n",
       "      <td>6</td>\n",
       "      <td>8</td>\n",
       "      <td>8</td>\n",
       "      <td>1.0</td>\n",
       "      <td>3</td>\n",
       "      <td>4</td>\n",
       "      <td>3</td>\n",
       "      <td>7</td>\n",
       "      <td>1</td>\n",
       "      <td>0</td>\n",
       "    </tr>\n",
       "    <tr>\n",
       "      <th>4</th>\n",
       "      <td>4</td>\n",
       "      <td>1</td>\n",
       "      <td>1</td>\n",
       "      <td>1.0</td>\n",
       "      <td>2</td>\n",
       "      <td>1</td>\n",
       "      <td>3</td>\n",
       "      <td>1</td>\n",
       "      <td>1</td>\n",
       "      <td>0</td>\n",
       "    </tr>\n",
       "    <tr>\n",
       "      <th>...</th>\n",
       "      <td>...</td>\n",
       "      <td>...</td>\n",
       "      <td>...</td>\n",
       "      <td>...</td>\n",
       "      <td>...</td>\n",
       "      <td>...</td>\n",
       "      <td>...</td>\n",
       "      <td>...</td>\n",
       "      <td>...</td>\n",
       "      <td>...</td>\n",
       "    </tr>\n",
       "    <tr>\n",
       "      <th>678</th>\n",
       "      <td>3</td>\n",
       "      <td>1</td>\n",
       "      <td>1</td>\n",
       "      <td>1.0</td>\n",
       "      <td>3</td>\n",
       "      <td>2</td>\n",
       "      <td>1</td>\n",
       "      <td>1</td>\n",
       "      <td>1</td>\n",
       "      <td>0</td>\n",
       "    </tr>\n",
       "    <tr>\n",
       "      <th>679</th>\n",
       "      <td>2</td>\n",
       "      <td>1</td>\n",
       "      <td>1</td>\n",
       "      <td>1.0</td>\n",
       "      <td>2</td>\n",
       "      <td>1</td>\n",
       "      <td>1</td>\n",
       "      <td>1</td>\n",
       "      <td>1</td>\n",
       "      <td>0</td>\n",
       "    </tr>\n",
       "    <tr>\n",
       "      <th>680</th>\n",
       "      <td>5</td>\n",
       "      <td>10</td>\n",
       "      <td>10</td>\n",
       "      <td>1.0</td>\n",
       "      <td>7</td>\n",
       "      <td>3</td>\n",
       "      <td>8</td>\n",
       "      <td>10</td>\n",
       "      <td>2</td>\n",
       "      <td>1</td>\n",
       "    </tr>\n",
       "    <tr>\n",
       "      <th>681</th>\n",
       "      <td>4</td>\n",
       "      <td>8</td>\n",
       "      <td>6</td>\n",
       "      <td>1.0</td>\n",
       "      <td>3</td>\n",
       "      <td>4</td>\n",
       "      <td>10</td>\n",
       "      <td>6</td>\n",
       "      <td>1</td>\n",
       "      <td>1</td>\n",
       "    </tr>\n",
       "    <tr>\n",
       "      <th>682</th>\n",
       "      <td>4</td>\n",
       "      <td>8</td>\n",
       "      <td>8</td>\n",
       "      <td>1.0</td>\n",
       "      <td>4</td>\n",
       "      <td>5</td>\n",
       "      <td>10</td>\n",
       "      <td>4</td>\n",
       "      <td>1</td>\n",
       "      <td>1</td>\n",
       "    </tr>\n",
       "  </tbody>\n",
       "</table>\n",
       "<p>683 rows × 10 columns</p>\n",
       "</div>"
      ],
      "text/plain": [
       "     Clump_Thickness  Uniformity_of_Cell_Size  Uniformity_of_Cell_Shape  \\\n",
       "0                  5                        1                         1   \n",
       "1                  5                        4                         4   \n",
       "2                  3                        1                         1   \n",
       "3                  6                        8                         8   \n",
       "4                  4                        1                         1   \n",
       "..               ...                      ...                       ...   \n",
       "678                3                        1                         1   \n",
       "679                2                        1                         1   \n",
       "680                5                       10                        10   \n",
       "681                4                        8                         6   \n",
       "682                4                        8                         8   \n",
       "\n",
       "     Marginal_Adhesion  Single_Epithelial_Cell_Size  Bare_Nuclei  \\\n",
       "0                  1.0                            2            1   \n",
       "1                  1.0                            7           10   \n",
       "2                  1.0                            2            2   \n",
       "3                  1.0                            3            4   \n",
       "4                  1.0                            2            1   \n",
       "..                 ...                          ...          ...   \n",
       "678                1.0                            3            2   \n",
       "679                1.0                            2            1   \n",
       "680                1.0                            7            3   \n",
       "681                1.0                            3            4   \n",
       "682                1.0                            4            5   \n",
       "\n",
       "     Bland_Chromatin  Normal_Nucleoli  Mitoses  Class  \n",
       "0                  3                1        1      0  \n",
       "1                  3                2        1      0  \n",
       "2                  3                1        1      0  \n",
       "3                  3                7        1      0  \n",
       "4                  3                1        1      0  \n",
       "..               ...              ...      ...    ...  \n",
       "678                1                1        1      0  \n",
       "679                1                1        1      0  \n",
       "680                8               10        2      1  \n",
       "681               10                6        1      1  \n",
       "682               10                4        1      1  \n",
       "\n",
       "[683 rows x 10 columns]"
      ]
     },
     "execution_count": 50,
     "metadata": {},
     "output_type": "execute_result"
    }
   ],
   "source": [
    "Breast_df"
   ]
  },
  {
   "cell_type": "markdown",
   "id": "c2b70d76",
   "metadata": {},
   "source": [
    "### 3. EDA"
   ]
  },
  {
   "cell_type": "markdown",
   "id": "a07c9627",
   "metadata": {},
   "source": [
    "#### 3.1 Clump Thickness\t"
   ]
  },
  {
   "cell_type": "code",
   "execution_count": 52,
   "id": "bdaf0372",
   "metadata": {},
   "outputs": [
    {
     "data": {
      "text/plain": [
       "<AxesSubplot:>"
      ]
     },
     "execution_count": 52,
     "metadata": {},
     "output_type": "execute_result"
    },
    {
     "data": {
      "image/png": "[encoded data removed]",
      "text/plain": [
       "<Figure size 432x288 with 1 Axes>"
      ]
     },
     "metadata": {
      "needs_background": "light"
     },
     "output_type": "display_data"
    }
   ],
   "source": [
    "Breast_df[['Clump_Thickness']].boxplot()"
   ]
  },
  {
   "cell_type": "code",
   "execution_count": 53,
   "id": "cc722f1b",
   "metadata": {
    "scrolled": true
   },
   "outputs": [
    {
     "data": {
      "text/plain": [
       "<AxesSubplot:xlabel='Clump_Thickness'>"
      ]
     },
     "execution_count": 53,
     "metadata": {},
     "output_type": "execute_result"
    },
    {
     "data": {
      "image/png": "[encoded data removed]",
      "text/plain": [
       "<Figure size 432x288 with 1 Axes>"
      ]
     },
     "metadata": {
      "needs_background": "light"
     },
     "output_type": "display_data"
    }
   ],
   "source": [
    "sns.boxplot(Breast_df['Clump_Thickness'])"
   ]
  },
  {
   "cell_type": "code",
   "execution_count": 79,
   "id": "b9314262",
   "metadata": {},
   "outputs": [
    {
     "data": {
      "text/plain": [
       "<AxesSubplot:xlabel='Clump_Thickness', ylabel='Density'>"
      ]
     },
     "execution_count": 79,
     "metadata": {},
     "output_type": "execute_result"
    },
    {
     "data": {
      "image/png": "[encoded data removed]",
      "text/plain": [
       "<Figure size 432x288 with 1 Axes>"
      ]
     },
     "metadata": {
      "needs_background": "light"
     },
     "output_type": "display_data"
    }
   ],
   "source": [
    "sns.distplot(Breast_df['Clump_Thickness'])"
   ]
  },
  {
   "cell_type": "code",
   "execution_count": 54,
   "id": "883a2854",
   "metadata": {
    "scrolled": true
   },
   "outputs": [
    {
     "data": {
      "text/plain": [
       "<AxesSubplot:xlabel='Uniformity_of_Cell_Size'>"
      ]
     },
     "execution_count": 54,
     "metadata": {},
     "output_type": "execute_result"
    },
    {
     "data": {
      "image/png": "[encoded data removed]",
      "text/plain": [
       "<Figure size 432x288 with 1 Axes>"
      ]
     },
     "metadata": {
      "needs_background": "light"
     },
     "output_type": "display_data"
    }
   ],
   "source": [
    "sns.boxplot(Breast_df['Uniformity_of_Cell_Size'])"
   ]
  },
  {
   "cell_type": "code",
   "execution_count": 80,
   "id": "438d76b6",
   "metadata": {},
   "outputs": [
    {
     "data": {
      "text/plain": [
       "<AxesSubplot:xlabel='Uniformity_of_Cell_Size', ylabel='Density'>"
      ]
     },
     "execution_count": 80,
     "metadata": {},
     "output_type": "execute_result"
    },
    {
     "data": {
      "image/png": "[encoded data removed]",
      "text/plain": [
       "<Figure size 432x288 with 1 Axes>"
      ]
     },
     "metadata": {
      "needs_background": "light"
     },
     "output_type": "display_data"
    }
   ],
   "source": [
    "sns.distplot(Breast_df['Uniformity_of_Cell_Size'])"
   ]
  },
  {
   "cell_type": "code",
   "execution_count": 55,
   "id": "12639890",
   "metadata": {
    "scrolled": true
   },
   "outputs": [
    {
     "data": {
      "text/plain": [
       "<AxesSubplot:xlabel='Uniformity_of_Cell_Shape'>"
      ]
     },
     "execution_count": 55,
     "metadata": {},
     "output_type": "execute_result"
    },
    {
     "data": {
      "image/png": "[encoded data removed]",
      "text/plain": [
       "<Figure size 432x288 with 1 Axes>"
      ]
     },
     "metadata": {
      "needs_background": "light"
     },
     "output_type": "display_data"
    }
   ],
   "source": [
    "sns.boxplot(Breast_df['Uniformity_of_Cell_Shape'])"
   ]
  },
  {
   "cell_type": "code",
   "execution_count": 81,
   "id": "a556c181",
   "metadata": {},
   "outputs": [
    {
     "data": {
      "text/plain": [
       "<AxesSubplot:xlabel='Uniformity_of_Cell_Shape', ylabel='Density'>"
      ]
     },
     "execution_count": 81,
     "metadata": {},
     "output_type": "execute_result"
    },
    {
     "data": {
      "image/png": "[encoded data removed]",
      "text/plain": [
       "<Figure size 432x288 with 1 Axes>"
      ]
     },
     "metadata": {
      "needs_background": "light"
     },
     "output_type": "display_data"
    }
   ],
   "source": [
    "sns.distplot(Breast_df['Uniformity_of_Cell_Shape'])"
   ]
  },
  {
   "cell_type": "code",
   "execution_count": 56,
   "id": "cccdd298",
   "metadata": {},
   "outputs": [
    {
     "data": {
      "text/plain": [
       "<AxesSubplot:xlabel='Marginal_Adhesion'>"
      ]
     },
     "execution_count": 56,
     "metadata": {},
     "output_type": "execute_result"
    },
    {
     "data": {
      "image/png": "[encoded data removed]",
      "text/plain": [
       "<Figure size 432x288 with 1 Axes>"
      ]
     },
     "metadata": {
      "needs_background": "light"
     },
     "output_type": "display_data"
    }
   ],
   "source": [
    "sns.boxplot(Breast_df['Marginal_Adhesion'])"
   ]
  },
  {
   "cell_type": "code",
   "execution_count": 57,
   "id": "7ebf7028",
   "metadata": {},
   "outputs": [
    {
     "data": {
      "text/plain": [
       "(25, 10)"
      ]
     },
     "execution_count": 57,
     "metadata": {},
     "output_type": "execute_result"
    }
   ],
   "source": [
    "Breast_df[Breast_df['Marginal_Adhesion'].between(8,15)].shape"
   ]
  },
  {
   "cell_type": "code",
   "execution_count": 58,
   "id": "4c15021e",
   "metadata": {
    "scrolled": true
   },
   "outputs": [
    {
     "data": {
      "text/plain": [
       "1.0    658\n",
       "8.0     25\n",
       "Name: Marginal_Adhesion, dtype: int64"
      ]
     },
     "execution_count": 58,
     "metadata": {},
     "output_type": "execute_result"
    }
   ],
   "source": [
    "Breast_df['Marginal_Adhesion'].value_counts()"
   ]
  },
  {
   "cell_type": "code",
   "execution_count": 82,
   "id": "cd357418",
   "metadata": {},
   "outputs": [
    {
     "data": {
      "text/plain": [
       "<AxesSubplot:xlabel='Marginal_Adhesion', ylabel='Density'>"
      ]
     },
     "execution_count": 82,
     "metadata": {},
     "output_type": "execute_result"
    },
    {
     "data": {
      "image/png": "[encoded data removed]",
      "text/plain": [
       "<Figure size 432x288 with 1 Axes>"
      ]
     },
     "metadata": {
      "needs_background": "light"
     },
     "output_type": "display_data"
    }
   ],
   "source": [
    "sns.distplot(Breast_df['Marginal_Adhesion'])"
   ]
  },
  {
   "cell_type": "code",
   "execution_count": 59,
   "id": "9f553d52",
   "metadata": {},
   "outputs": [
    {
     "data": {
      "text/plain": [
       "<AxesSubplot:xlabel='Single_Epithelial_Cell_Size'>"
      ]
     },
     "execution_count": 59,
     "metadata": {},
     "output_type": "execute_result"
    },
    {
     "data": {
      "image/png": "[encoded data removed]",
      "text/plain": [
       "<Figure size 432x288 with 1 Axes>"
      ]
     },
     "metadata": {
      "needs_background": "light"
     },
     "output_type": "display_data"
    }
   ],
   "source": [
    "sns.boxplot(Breast_df['Single_Epithelial_Cell_Size'])"
   ]
  },
  {
   "cell_type": "code",
   "execution_count": 60,
   "id": "f9556008",
   "metadata": {},
   "outputs": [
    {
     "data": {
      "text/plain": [
       "(54, 10)"
      ]
     },
     "execution_count": 60,
     "metadata": {},
     "output_type": "execute_result"
    }
   ],
   "source": [
    "Breast_df[Breast_df['Single_Epithelial_Cell_Size'].between(8,15)].shape"
   ]
  },
  {
   "cell_type": "code",
   "execution_count": 61,
   "id": "ab96210a",
   "metadata": {},
   "outputs": [],
   "source": [
    "Breast_df['Single_Epithelial_Cell_Size'] = np.where(Breast_df['Single_Epithelial_Cell_Size'].between(8,15), Breast_df['Single_Epithelial_Cell_Size'].median(),\n",
    "                                   Breast_df['Single_Epithelial_Cell_Size'])"
   ]
  },
  {
   "cell_type": "code",
   "execution_count": 83,
   "id": "7893e514",
   "metadata": {},
   "outputs": [
    {
     "data": {
      "text/plain": [
       "<AxesSubplot:xlabel='Single_Epithelial_Cell_Size', ylabel='Density'>"
      ]
     },
     "execution_count": 83,
     "metadata": {},
     "output_type": "execute_result"
    },
    {
     "data": {
      "image/png": "[encoded data removed]",
      "text/plain": [
       "<Figure size 432x288 with 1 Axes>"
      ]
     },
     "metadata": {
      "needs_background": "light"
     },
     "output_type": "display_data"
    }
   ],
   "source": [
    "sns.distplot(Breast_df['Single_Epithelial_Cell_Size'])"
   ]
  },
  {
   "cell_type": "code",
   "execution_count": 63,
   "id": "f340e001",
   "metadata": {},
   "outputs": [
    {
     "data": {
      "text/plain": [
       "<AxesSubplot:xlabel='Bare_Nuclei'>"
      ]
     },
     "execution_count": 63,
     "metadata": {},
     "output_type": "execute_result"
    },
    {
     "data": {
      "image/png": "[encoded data removed]",
      "text/plain": [
       "<Figure size 432x288 with 1 Axes>"
      ]
     },
     "metadata": {
      "needs_background": "light"
     },
     "output_type": "display_data"
    }
   ],
   "source": [
    "sns.boxplot(Breast_df['Bare_Nuclei'])"
   ]
  },
  {
   "cell_type": "code",
   "execution_count": 84,
   "id": "2c38e55e",
   "metadata": {},
   "outputs": [
    {
     "data": {
      "text/plain": [
       "<AxesSubplot:xlabel='Bare_Nuclei', ylabel='Density'>"
      ]
     },
     "execution_count": 84,
     "metadata": {},
     "output_type": "execute_result"
    },
    {
     "data": {
      "image/png": "[encoded data removed]",
      "text/plain": [
       "<Figure size 432x288 with 1 Axes>"
      ]
     },
     "metadata": {
      "needs_background": "light"
     },
     "output_type": "display_data"
    }
   ],
   "source": [
    "sns.distplot(Breast_df['Bare_Nuclei'])"
   ]
  },
  {
   "cell_type": "code",
   "execution_count": 64,
   "id": "d338b90d",
   "metadata": {},
   "outputs": [
    {
     "data": {
      "text/plain": [
       "<AxesSubplot:xlabel='Bland_Chromatin'>"
      ]
     },
     "execution_count": 64,
     "metadata": {},
     "output_type": "execute_result"
    },
    {
     "data": {
      "image/png": "[encoded data removed]",
      "text/plain": [
       "<Figure size 432x288 with 1 Axes>"
      ]
     },
     "metadata": {
      "needs_background": "light"
     },
     "output_type": "display_data"
    }
   ],
   "source": [
    "sns.boxplot(Breast_df['Bland_Chromatin'])"
   ]
  },
  {
   "cell_type": "code",
   "execution_count": 67,
   "id": "6eca99d9",
   "metadata": {},
   "outputs": [
    {
     "data": {
      "text/plain": [
       "(0, 10)"
      ]
     },
     "execution_count": 67,
     "metadata": {},
     "output_type": "execute_result"
    }
   ],
   "source": [
    "Breast_df[Breast_df['Bland_Chromatin'].between(9,15)].shape"
   ]
  },
  {
   "cell_type": "code",
   "execution_count": 66,
   "id": "f6e4a20e",
   "metadata": {},
   "outputs": [],
   "source": [
    "Breast_df['Bland_Chromatin'] = np.where(Breast_df['Bland_Chromatin'].between(9,15), Breast_df['Bland_Chromatin'].median(),\n",
    "                                   Breast_df['Bland_Chromatin'])"
   ]
  },
  {
   "cell_type": "code",
   "execution_count": 85,
   "id": "97140888",
   "metadata": {},
   "outputs": [
    {
     "data": {
      "text/plain": [
       "<AxesSubplot:xlabel='Bland_Chromatin', ylabel='Density'>"
      ]
     },
     "execution_count": 85,
     "metadata": {},
     "output_type": "execute_result"
    },
    {
     "data": {
      "image/png": "[encoded data removed]",
      "text/plain": [
       "<Figure size 432x288 with 1 Axes>"
      ]
     },
     "metadata": {
      "needs_background": "light"
     },
     "output_type": "display_data"
    }
   ],
   "source": [
    "sns.distplot(Breast_df['Bland_Chromatin'])"
   ]
  },
  {
   "cell_type": "code",
   "execution_count": 68,
   "id": "f4f3cf55",
   "metadata": {},
   "outputs": [
    {
     "data": {
      "text/plain": [
       "<AxesSubplot:xlabel='Normal_Nucleoli'>"
      ]
     },
     "execution_count": 68,
     "metadata": {},
     "output_type": "execute_result"
    },
    {
     "data": {
      "image/png": "[encoded data removed]",
      "text/plain": [
       "<Figure size 432x288 with 1 Axes>"
      ]
     },
     "metadata": {
      "needs_background": "light"
     },
     "output_type": "display_data"
    }
   ],
   "source": [
    "sns.boxplot(Breast_df['Normal_Nucleoli'])"
   ]
  },
  {
   "cell_type": "code",
   "execution_count": 71,
   "id": "c44783a0",
   "metadata": {},
   "outputs": [
    {
     "data": {
      "text/plain": [
       "(0, 10)"
      ]
     },
     "execution_count": 71,
     "metadata": {},
     "output_type": "execute_result"
    }
   ],
   "source": [
    "Breast_df[Breast_df['Normal_Nucleoli'].between(8,10)].shape"
   ]
  },
  {
   "cell_type": "code",
   "execution_count": 70,
   "id": "5394da27",
   "metadata": {},
   "outputs": [],
   "source": [
    "Breast_df['Normal_Nucleoli'] = np.where(Breast_df['Normal_Nucleoli'].between(8,10), Breast_df['Normal_Nucleoli'].median(),\n",
    "                                   Breast_df['Normal_Nucleoli'])"
   ]
  },
  {
   "cell_type": "code",
   "execution_count": 86,
   "id": "74ffaf4a",
   "metadata": {},
   "outputs": [
    {
     "data": {
      "text/plain": [
       "<AxesSubplot:xlabel='Normal_Nucleoli', ylabel='Density'>"
      ]
     },
     "execution_count": 86,
     "metadata": {},
     "output_type": "execute_result"
    },
    {
     "data": {
      "image/png": "[encoded data removed]",
      "text/plain": [
       "<Figure size 432x288 with 1 Axes>"
      ]
     },
     "metadata": {
      "needs_background": "light"
     },
     "output_type": "display_data"
    }
   ],
   "source": [
    "sns.distplot(Breast_df['Normal_Nucleoli'])"
   ]
  },
  {
   "cell_type": "code",
   "execution_count": 72,
   "id": "a1d1fd9f",
   "metadata": {},
   "outputs": [
    {
     "data": {
      "text/plain": [
       "<AxesSubplot:xlabel='Mitoses'>"
      ]
     },
     "execution_count": 72,
     "metadata": {},
     "output_type": "execute_result"
    },
    {
     "data": {
      "image/png": "[encoded data removed]",
      "text/plain": [
       "<Figure size 432x288 with 1 Axes>"
      ]
     },
     "metadata": {
      "needs_background": "light"
     },
     "output_type": "display_data"
    }
   ],
   "source": [
    "sns.boxplot(Breast_df['Mitoses'])"
   ]
  },
  {
   "cell_type": "code",
   "execution_count": 74,
   "id": "25ffca96",
   "metadata": {},
   "outputs": [
    {
     "data": {
      "text/plain": [
       "<AxesSubplot:xlabel='Mitoses', ylabel='Density'>"
      ]
     },
     "execution_count": 74,
     "metadata": {},
     "output_type": "execute_result"
    },
    {
     "data": {
      "image/png": "[encoded data removed]",
      "text/plain": [
       "<Figure size 432x288 with 1 Axes>"
      ]
     },
     "metadata": {
      "needs_background": "light"
     },
     "output_type": "display_data"
    }
   ],
   "source": [
    "sns.distplot(Breast_df['Mitoses'])"
   ]
  },
  {
   "cell_type": "code",
   "execution_count": 77,
   "id": "5d569df4",
   "metadata": {},
   "outputs": [
    {
     "data": {
      "text/plain": [
       "(0, 10)"
      ]
     },
     "execution_count": 77,
     "metadata": {},
     "output_type": "execute_result"
    }
   ],
   "source": [
    "Breast_df[Breast_df['Mitoses'].between(2,10)].shape"
   ]
  },
  {
   "cell_type": "code",
   "execution_count": 76,
   "id": "b972394e",
   "metadata": {},
   "outputs": [],
   "source": [
    "Breast_df['Mitoses'] = np.where(Breast_df['Mitoses'].between(2,10), Breast_df['Mitoses'].median(),\n",
    "                                   Breast_df['Mitoses'])"
   ]
  },
  {
   "cell_type": "code",
   "execution_count": null,
   "id": "c11c8a42",
   "metadata": {},
   "outputs": [],
   "source": [
    "Breast_df[Breast_df['Class'].between(2,10)].shape"
   ]
  },
  {
   "cell_type": "code",
   "execution_count": 78,
   "id": "36c4d866",
   "metadata": {},
   "outputs": [
    {
     "data": {
      "text/plain": [
       "<AxesSubplot:xlabel='Class'>"
      ]
     },
     "execution_count": 78,
     "metadata": {},
     "output_type": "execute_result"
    },
    {
     "data": {
      "image/png": "[encoded data removed]",
      "text/plain": [
       "<Figure size 432x288 with 1 Axes>"
      ]
     },
     "metadata": {
      "needs_background": "light"
     },
     "output_type": "display_data"
    }
   ],
   "source": [
    "sns.boxplot(Breast_df['Class'])"
   ]
  },
  {
   "cell_type": "code",
   "execution_count": 87,
   "id": "b55fbf9d",
   "metadata": {},
   "outputs": [
    {
     "data": {
      "text/plain": [
       "<AxesSubplot:xlabel='Class', ylabel='Density'>"
      ]
     },
     "execution_count": 87,
     "metadata": {},
     "output_type": "execute_result"
    },
    {
     "data": {
      "image/png": "[encoded data removed]",
      "text/plain": [
       "<Figure size 432x288 with 1 Axes>"
      ]
     },
     "metadata": {
      "needs_background": "light"
     },
     "output_type": "display_data"
    }
   ],
   "source": [
    "sns.distplot(Breast_df['Class'])"
   ]
  },
  {
   "cell_type": "code",
   "execution_count": null,
   "id": "f842ae79",
   "metadata": {},
   "outputs": [],
   "source": []
  },
  {
   "cell_type": "code",
   "execution_count": 88,
   "id": "fe17655f",
   "metadata": {},
   "outputs": [
    {
     "data": {
      "text/html": [
       "<div>\n",
       "<style scoped>\n",
       "    .dataframe tbody tr th:only-of-type {\n",
       "        vertical-align: middle;\n",
       "    }\n",
       "\n",
       "    .dataframe tbody tr th {\n",
       "        vertical-align: top;\n",
       "    }\n",
       "\n",
       "    .dataframe thead th {\n",
       "        text-align: right;\n",
       "    }\n",
       "</style>\n",
       "<table border=\"1\" class=\"dataframe\">\n",
       "  <thead>\n",
       "    <tr style=\"text-align: right;\">\n",
       "      <th></th>\n",
       "      <th>Clump_Thickness</th>\n",
       "      <th>Uniformity_of_Cell_Size</th>\n",
       "      <th>Uniformity_of_Cell_Shape</th>\n",
       "      <th>Marginal_Adhesion</th>\n",
       "      <th>Single_Epithelial_Cell_Size</th>\n",
       "      <th>Bare_Nuclei</th>\n",
       "      <th>Bland_Chromatin</th>\n",
       "      <th>Normal_Nucleoli</th>\n",
       "      <th>Mitoses</th>\n",
       "      <th>Class</th>\n",
       "    </tr>\n",
       "  </thead>\n",
       "  <tbody>\n",
       "    <tr>\n",
       "      <th>Class</th>\n",
       "      <td>0.71479</td>\n",
       "      <td>0.820801</td>\n",
       "      <td>0.821891</td>\n",
       "      <td>0.265674</td>\n",
       "      <td>0.602866</td>\n",
       "      <td>0.822696</td>\n",
       "      <td>0.708874</td>\n",
       "      <td>0.418439</td>\n",
       "      <td>NaN</td>\n",
       "      <td>1.0</td>\n",
       "    </tr>\n",
       "  </tbody>\n",
       "</table>\n",
       "</div>"
      ],
      "text/plain": [
       "       Clump_Thickness  Uniformity_of_Cell_Size  Uniformity_of_Cell_Shape  \\\n",
       "Class          0.71479                 0.820801                  0.821891   \n",
       "\n",
       "       Marginal_Adhesion  Single_Epithelial_Cell_Size  Bare_Nuclei  \\\n",
       "Class           0.265674                     0.602866     0.822696   \n",
       "\n",
       "       Bland_Chromatin  Normal_Nucleoli  Mitoses  Class  \n",
       "Class         0.708874         0.418439      NaN    1.0  "
      ]
     },
     "execution_count": 88,
     "metadata": {},
     "output_type": "execute_result"
    }
   ],
   "source": [
    "Breast_df.corr().tail(1)"
   ]
  },
  {
   "cell_type": "code",
   "execution_count": 89,
   "id": "b45a4caf",
   "metadata": {},
   "outputs": [
    {
     "data": {
      "text/plain": [
       "<AxesSubplot:>"
      ]
     },
     "execution_count": 89,
     "metadata": {},
     "output_type": "execute_result"
    },
    {
     "data": {
      "image/png": "[encoded data removed]",
      "text/plain": [
       "<Figure size 1080x864 with 2 Axes>"
      ]
     },
     "metadata": {
      "needs_background": "light"
     },
     "output_type": "display_data"
    }
   ],
   "source": [
    "plt.figure(figsize=(15,12))\n",
    "sns.heatmap(Breast_df.corr(),annot=True)"
   ]
  },
  {
   "cell_type": "code",
   "execution_count": 90,
   "id": "a22c4edf",
   "metadata": {},
   "outputs": [
    {
     "data": {
      "text/plain": [
       "0      1.0\n",
       "1      1.0\n",
       "2      1.0\n",
       "3      1.0\n",
       "4      1.0\n",
       "      ... \n",
       "678    1.0\n",
       "679    1.0\n",
       "680    1.0\n",
       "681    1.0\n",
       "682    1.0\n",
       "Name: Mitoses, Length: 683, dtype: float64"
      ]
     },
     "execution_count": 90,
     "metadata": {},
     "output_type": "execute_result"
    }
   ],
   "source": [
    "Breast_df['Mitoses']"
   ]
  },
  {
   "cell_type": "code",
   "execution_count": 91,
   "id": "75dcf6c5",
   "metadata": {},
   "outputs": [
    {
     "data": {
      "text/plain": [
       "1.0    683\n",
       "Name: Mitoses, dtype: int64"
      ]
     },
     "execution_count": 91,
     "metadata": {},
     "output_type": "execute_result"
    }
   ],
   "source": [
    "Breast_df['Mitoses'].value_counts()"
   ]
  },
  {
   "cell_type": "code",
   "execution_count": null,
   "id": "cc4ea0c0",
   "metadata": {},
   "outputs": [],
   "source": []
  },
  {
   "cell_type": "code",
   "execution_count": 92,
   "id": "f8def82b",
   "metadata": {
    "scrolled": true
   },
   "outputs": [
    {
     "data": {
      "text/html": [
       "<div>\n",
       "<style scoped>\n",
       "    .dataframe tbody tr th:only-of-type {\n",
       "        vertical-align: middle;\n",
       "    }\n",
       "\n",
       "    .dataframe tbody tr th {\n",
       "        vertical-align: top;\n",
       "    }\n",
       "\n",
       "    .dataframe thead th {\n",
       "        text-align: right;\n",
       "    }\n",
       "</style>\n",
       "<table border=\"1\" class=\"dataframe\">\n",
       "  <thead>\n",
       "    <tr style=\"text-align: right;\">\n",
       "      <th></th>\n",
       "      <th>Clump_Thickness</th>\n",
       "      <th>Uniformity_of_Cell_Size</th>\n",
       "      <th>Uniformity_of_Cell_Shape</th>\n",
       "      <th>Marginal_Adhesion</th>\n",
       "      <th>Single_Epithelial_Cell_Size</th>\n",
       "      <th>Bare_Nuclei</th>\n",
       "      <th>Bland_Chromatin</th>\n",
       "      <th>Normal_Nucleoli</th>\n",
       "      <th>Mitoses</th>\n",
       "    </tr>\n",
       "  </thead>\n",
       "  <tbody>\n",
       "    <tr>\n",
       "      <th>0</th>\n",
       "      <td>5</td>\n",
       "      <td>1</td>\n",
       "      <td>1</td>\n",
       "      <td>1.0</td>\n",
       "      <td>2.0</td>\n",
       "      <td>1</td>\n",
       "      <td>3.0</td>\n",
       "      <td>1.0</td>\n",
       "      <td>1.0</td>\n",
       "    </tr>\n",
       "    <tr>\n",
       "      <th>1</th>\n",
       "      <td>5</td>\n",
       "      <td>4</td>\n",
       "      <td>4</td>\n",
       "      <td>1.0</td>\n",
       "      <td>7.0</td>\n",
       "      <td>10</td>\n",
       "      <td>3.0</td>\n",
       "      <td>2.0</td>\n",
       "      <td>1.0</td>\n",
       "    </tr>\n",
       "    <tr>\n",
       "      <th>2</th>\n",
       "      <td>3</td>\n",
       "      <td>1</td>\n",
       "      <td>1</td>\n",
       "      <td>1.0</td>\n",
       "      <td>2.0</td>\n",
       "      <td>2</td>\n",
       "      <td>3.0</td>\n",
       "      <td>1.0</td>\n",
       "      <td>1.0</td>\n",
       "    </tr>\n",
       "    <tr>\n",
       "      <th>3</th>\n",
       "      <td>6</td>\n",
       "      <td>8</td>\n",
       "      <td>8</td>\n",
       "      <td>1.0</td>\n",
       "      <td>3.0</td>\n",
       "      <td>4</td>\n",
       "      <td>3.0</td>\n",
       "      <td>7.0</td>\n",
       "      <td>1.0</td>\n",
       "    </tr>\n",
       "    <tr>\n",
       "      <th>4</th>\n",
       "      <td>4</td>\n",
       "      <td>1</td>\n",
       "      <td>1</td>\n",
       "      <td>1.0</td>\n",
       "      <td>2.0</td>\n",
       "      <td>1</td>\n",
       "      <td>3.0</td>\n",
       "      <td>1.0</td>\n",
       "      <td>1.0</td>\n",
       "    </tr>\n",
       "    <tr>\n",
       "      <th>...</th>\n",
       "      <td>...</td>\n",
       "      <td>...</td>\n",
       "      <td>...</td>\n",
       "      <td>...</td>\n",
       "      <td>...</td>\n",
       "      <td>...</td>\n",
       "      <td>...</td>\n",
       "      <td>...</td>\n",
       "      <td>...</td>\n",
       "    </tr>\n",
       "    <tr>\n",
       "      <th>678</th>\n",
       "      <td>3</td>\n",
       "      <td>1</td>\n",
       "      <td>1</td>\n",
       "      <td>1.0</td>\n",
       "      <td>3.0</td>\n",
       "      <td>2</td>\n",
       "      <td>1.0</td>\n",
       "      <td>1.0</td>\n",
       "      <td>1.0</td>\n",
       "    </tr>\n",
       "    <tr>\n",
       "      <th>679</th>\n",
       "      <td>2</td>\n",
       "      <td>1</td>\n",
       "      <td>1</td>\n",
       "      <td>1.0</td>\n",
       "      <td>2.0</td>\n",
       "      <td>1</td>\n",
       "      <td>1.0</td>\n",
       "      <td>1.0</td>\n",
       "      <td>1.0</td>\n",
       "    </tr>\n",
       "    <tr>\n",
       "      <th>680</th>\n",
       "      <td>5</td>\n",
       "      <td>10</td>\n",
       "      <td>10</td>\n",
       "      <td>1.0</td>\n",
       "      <td>7.0</td>\n",
       "      <td>3</td>\n",
       "      <td>8.0</td>\n",
       "      <td>1.0</td>\n",
       "      <td>1.0</td>\n",
       "    </tr>\n",
       "    <tr>\n",
       "      <th>681</th>\n",
       "      <td>4</td>\n",
       "      <td>8</td>\n",
       "      <td>6</td>\n",
       "      <td>1.0</td>\n",
       "      <td>3.0</td>\n",
       "      <td>4</td>\n",
       "      <td>3.0</td>\n",
       "      <td>6.0</td>\n",
       "      <td>1.0</td>\n",
       "    </tr>\n",
       "    <tr>\n",
       "      <th>682</th>\n",
       "      <td>4</td>\n",
       "      <td>8</td>\n",
       "      <td>8</td>\n",
       "      <td>1.0</td>\n",
       "      <td>4.0</td>\n",
       "      <td>5</td>\n",
       "      <td>3.0</td>\n",
       "      <td>4.0</td>\n",
       "      <td>1.0</td>\n",
       "    </tr>\n",
       "  </tbody>\n",
       "</table>\n",
       "<p>683 rows × 9 columns</p>\n",
       "</div>"
      ],
      "text/plain": [
       "     Clump_Thickness  Uniformity_of_Cell_Size  Uniformity_of_Cell_Shape  \\\n",
       "0                  5                        1                         1   \n",
       "1                  5                        4                         4   \n",
       "2                  3                        1                         1   \n",
       "3                  6                        8                         8   \n",
       "4                  4                        1                         1   \n",
       "..               ...                      ...                       ...   \n",
       "678                3                        1                         1   \n",
       "679                2                        1                         1   \n",
       "680                5                       10                        10   \n",
       "681                4                        8                         6   \n",
       "682                4                        8                         8   \n",
       "\n",
       "     Marginal_Adhesion  Single_Epithelial_Cell_Size  Bare_Nuclei  \\\n",
       "0                  1.0                          2.0            1   \n",
       "1                  1.0                          7.0           10   \n",
       "2                  1.0                          2.0            2   \n",
       "3                  1.0                          3.0            4   \n",
       "4                  1.0                          2.0            1   \n",
       "..                 ...                          ...          ...   \n",
       "678                1.0                          3.0            2   \n",
       "679                1.0                          2.0            1   \n",
       "680                1.0                          7.0            3   \n",
       "681                1.0                          3.0            4   \n",
       "682                1.0                          4.0            5   \n",
       "\n",
       "     Bland_Chromatin  Normal_Nucleoli  Mitoses  \n",
       "0                3.0              1.0      1.0  \n",
       "1                3.0              2.0      1.0  \n",
       "2                3.0              1.0      1.0  \n",
       "3                3.0              7.0      1.0  \n",
       "4                3.0              1.0      1.0  \n",
       "..               ...              ...      ...  \n",
       "678              1.0              1.0      1.0  \n",
       "679              1.0              1.0      1.0  \n",
       "680              8.0              1.0      1.0  \n",
       "681              3.0              6.0      1.0  \n",
       "682              3.0              4.0      1.0  \n",
       "\n",
       "[683 rows x 9 columns]"
      ]
     },
     "execution_count": 92,
     "metadata": {},
     "output_type": "execute_result"
    }
   ],
   "source": [
    "x = Breast_df.drop('Class', axis=1)\n",
    "x"
   ]
  },
  {
   "cell_type": "code",
   "execution_count": 94,
   "id": "83fd2a16",
   "metadata": {},
   "outputs": [
    {
     "data": {
      "text/plain": [
       "(683, 9)"
      ]
     },
     "execution_count": 94,
     "metadata": {},
     "output_type": "execute_result"
    }
   ],
   "source": [
    "x.shape"
   ]
  },
  {
   "cell_type": "code",
   "execution_count": 97,
   "id": "f1e5aca1",
   "metadata": {},
   "outputs": [
    {
     "data": {
      "text/plain": [
       "<AxesSubplot:>"
      ]
     },
     "execution_count": 97,
     "metadata": {},
     "output_type": "execute_result"
    },
    {
     "data": {
      "image/png": "[encoded data removed]",
      "text/plain": [
       "<Figure size 432x288 with 1 Axes>"
      ]
     },
     "metadata": {
      "needs_background": "light"
     },
     "output_type": "display_data"
    }
   ],
   "source": [
    "vif_list = []\n",
    "\n",
    "for i in range(x.shape[1]):\n",
    "    vif = variance_inflation_factor(x.values, i)\n",
    "    vif_list.append(round(vif,2))\n",
    "    \n",
    "s1 = pd.Series(vif_list, index=x.columns)\n",
    "s1.sort_values().plot(kind= 'barh')"
   ]
  },
  {
   "cell_type": "code",
   "execution_count": 98,
   "id": "04cf6540",
   "metadata": {},
   "outputs": [
    {
     "data": {
      "text/plain": [
       "0    444\n",
       "1    239\n",
       "Name: Class, dtype: int64"
      ]
     },
     "execution_count": 98,
     "metadata": {},
     "output_type": "execute_result"
    }
   ],
   "source": [
    "Breast_df['Class'].value_counts()"
   ]
  },
  {
   "cell_type": "code",
   "execution_count": 99,
   "id": "c8908ca2",
   "metadata": {},
   "outputs": [],
   "source": [
    "y = Breast_df['Class']"
   ]
  },
  {
   "cell_type": "code",
   "execution_count": 100,
   "id": "e2cd5c25",
   "metadata": {},
   "outputs": [],
   "source": [
    "x_train, x_test,y_train,y_test = train_test_split(x,y,test_size=0.3,random_state=2,stratify=y)"
   ]
  },
  {
   "cell_type": "code",
   "execution_count": 102,
   "id": "d0b75f40",
   "metadata": {},
   "outputs": [
    {
     "data": {
      "text/plain": [
       "LogisticRegression()"
      ]
     },
     "execution_count": 102,
     "metadata": {},
     "output_type": "execute_result"
    }
   ],
   "source": [
    "log_reg = LogisticRegression()\n",
    "log_reg.fit(x_train,y_train)"
   ]
  },
  {
   "cell_type": "code",
   "execution_count": 104,
   "id": "47174015",
   "metadata": {},
   "outputs": [
    {
     "name": "stdout",
     "output_type": "stream",
     "text": [
      "******************Testing Data Evaluation*******************\n",
      "Accuracy Score: 0.9707317073170731\n",
      "****************************************\n",
      "Confision Matrix: \n",
      " [[130   3]\n",
      " [  3  69]]\n",
      "****************************************\n",
      "Classification Report :\n",
      "               precision    recall  f1-score   support\n",
      "\n",
      "           0       0.98      0.98      0.98       133\n",
      "           1       0.96      0.96      0.96        72\n",
      "\n",
      "    accuracy                           0.97       205\n",
      "   macro avg       0.97      0.97      0.97       205\n",
      "weighted avg       0.97      0.97      0.97       205\n",
      "\n",
      "******************Training Data Evaluation******************\n",
      "Accuracy Score: 0.9665271966527197\n",
      "****************************************\n",
      "Confision Matrix: \n",
      " [[304   7]\n",
      " [  9 158]]\n",
      "****************************************\n",
      "Classification Report :\n",
      "               precision    recall  f1-score   support\n",
      "\n",
      "           0       0.97      0.98      0.97       311\n",
      "           1       0.96      0.95      0.95       167\n",
      "\n",
      "    accuracy                           0.97       478\n",
      "   macro avg       0.96      0.96      0.96       478\n",
      "weighted avg       0.97      0.97      0.97       478\n",
      "\n"
     ]
    }
   ],
   "source": [
    "def evaluate_model(model, ind_var, act):\n",
    "    pred = model.predict(ind_var)\n",
    "    \n",
    "    acc_score = accuracy_score(act,pred)\n",
    "    print('Accuracy Score:', acc_score)\n",
    "    print('**'*20)\n",
    "    \n",
    "    cnf_matrix = confusion_matrix(act, pred)\n",
    "    print('Confision Matrix: \\n', cnf_matrix)\n",
    "    print('**'*20)\n",
    "    \n",
    "    clf_report = classification_report(act, pred)\n",
    "    print('Classification Report :\\n', clf_report)\n",
    "    \n",
    "    return pred\n",
    "    \n",
    "print('Testing Data Evaluation'.center(60, '*'))   \n",
    "y_pred = evaluate_model(log_reg, x_test, y_test)\n",
    "print('Training Data Evaluation'.center(60, '*'))   \n",
    "y_pred = evaluate_model(log_reg, x_train, y_train)"
   ]
  },
  {
   "cell_type": "code",
   "execution_count": 105,
   "id": "1ed5986b",
   "metadata": {},
   "outputs": [
    {
     "data": {
      "text/plain": [
       "<sklearn.metrics._plot.confusion_matrix.ConfusionMatrixDisplay at 0x1b1ac8e4670>"
      ]
     },
     "execution_count": 105,
     "metadata": {},
     "output_type": "execute_result"
    },
    {
     "data": {
      "text/plain": [
       "<Figure size 432x288 with 0 Axes>"
      ]
     },
     "metadata": {},
     "output_type": "display_data"
    },
    {
     "data": {
      "image/png": "[encoded data removed]",
      "text/plain": [
       "<Figure size 432x288 with 2 Axes>"
      ]
     },
     "metadata": {
      "needs_background": "light"
     },
     "output_type": "display_data"
    }
   ],
   "source": [
    "plt.figure(figsize=(6,4))\n",
    "plot_confusion_matrix(log_reg, x_test, y_test)"
   ]
  },
  {
   "cell_type": "code",
   "execution_count": 106,
   "id": "2978e643",
   "metadata": {},
   "outputs": [
    {
     "data": {
      "text/plain": [
       "array([[9.91185099e-01, 8.81490079e-03],\n",
       "       [9.28035493e-01, 7.19645068e-02],\n",
       "       [4.89196739e-01, 5.10803261e-01],\n",
       "       [9.98818509e-01, 1.18149133e-03],\n",
       "       [9.90461310e-01, 9.53868953e-03],\n",
       "       [4.45142224e-04, 9.99554858e-01],\n",
       "       [9.96747578e-01, 3.25242152e-03],\n",
       "       [2.27078539e-02, 9.77292146e-01],\n",
       "       [9.11782298e-03, 9.90882177e-01],\n",
       "       [9.96824829e-01, 3.17517142e-03],\n",
       "       [9.90894517e-01, 9.10548312e-03],\n",
       "       [9.70648441e-01, 2.93515594e-02],\n",
       "       [9.98062668e-01, 1.93733157e-03],\n",
       "       [4.47124297e-01, 5.52875703e-01],\n",
       "       [9.80154622e-01, 1.98453775e-02],\n",
       "       [9.82784048e-01, 1.72159522e-02],\n",
       "       [1.47175022e-04, 9.99852825e-01],\n",
       "       [6.53637450e-03, 9.93463625e-01],\n",
       "       [1.22404084e-03, 9.98775959e-01],\n",
       "       [2.73993333e-03, 9.97260067e-01],\n",
       "       [5.06782864e-02, 9.49321714e-01],\n",
       "       [9.61998113e-01, 3.80018875e-02],\n",
       "       [9.94609697e-01, 5.39030285e-03],\n",
       "       [9.65145559e-01, 3.48544412e-02],\n",
       "       [1.32801858e-02, 9.86719814e-01],\n",
       "       [9.94673958e-01, 5.32604182e-03],\n",
       "       [9.85713021e-01, 1.42869792e-02],\n",
       "       [5.58886906e-03, 9.94411131e-01],\n",
       "       [9.98818509e-01, 1.18149133e-03],\n",
       "       [1.00633745e-04, 9.99899366e-01],\n",
       "       [8.20846618e-01, 1.79153382e-01],\n",
       "       [9.94673958e-01, 5.32604182e-03],\n",
       "       [9.92724437e-01, 7.27556280e-03],\n",
       "       [9.80598850e-01, 1.94011503e-02],\n",
       "       [6.91431658e-01, 3.08568342e-01],\n",
       "       [9.91079121e-01, 8.92087892e-03],\n",
       "       [3.77361612e-04, 9.99622638e-01],\n",
       "       [9.88116396e-01, 1.18836041e-02],\n",
       "       [9.96824829e-01, 3.17517142e-03],\n",
       "       [9.85616231e-01, 1.43837689e-02],\n",
       "       [2.22699889e-02, 9.77730011e-01],\n",
       "       [9.43230861e-01, 5.67691395e-02],\n",
       "       [9.98818509e-01, 1.18149133e-03],\n",
       "       [9.98039213e-01, 1.96078692e-03],\n",
       "       [9.82376113e-01, 1.76238870e-02],\n",
       "       [9.63113517e-01, 3.68864831e-02],\n",
       "       [9.96747578e-01, 3.25242152e-03],\n",
       "       [9.98062668e-01, 1.93733157e-03],\n",
       "       [9.85929432e-01, 1.40705681e-02],\n",
       "       [9.76886044e-01, 2.31139564e-02],\n",
       "       [9.85444284e-01, 1.45557162e-02],\n",
       "       [2.72451986e-03, 9.97275480e-01],\n",
       "       [1.81378170e-02, 9.81862183e-01],\n",
       "       [9.92407014e-01, 7.59298596e-03],\n",
       "       [9.94234972e-01, 5.76502763e-03],\n",
       "       [9.94737457e-01, 5.26254282e-03],\n",
       "       [9.97646631e-01, 2.35336876e-03],\n",
       "       [9.94673958e-01, 5.32604182e-03],\n",
       "       [5.46495094e-01, 4.53504906e-01],\n",
       "       [9.94673958e-01, 5.32604182e-03],\n",
       "       [3.57146762e-03, 9.96428532e-01],\n",
       "       [3.88239943e-01, 6.11760057e-01],\n",
       "       [1.46124553e-01, 8.53875447e-01],\n",
       "       [9.98818509e-01, 1.18149133e-03],\n",
       "       [6.41645223e-06, 9.99993584e-01],\n",
       "       [9.98818509e-01, 1.18149133e-03],\n",
       "       [9.96747578e-01, 3.25242152e-03],\n",
       "       [9.83587666e-01, 1.64123344e-02],\n",
       "       [3.31265029e-02, 9.66873497e-01],\n",
       "       [9.76335211e-01, 2.36647894e-02],\n",
       "       [7.79979051e-05, 9.99922002e-01],\n",
       "       [4.57013301e-02, 9.54298670e-01],\n",
       "       [9.98062668e-01, 1.93733157e-03],\n",
       "       [9.91185099e-01, 8.81490079e-03],\n",
       "       [9.91079121e-01, 8.92087892e-03],\n",
       "       [9.30781065e-04, 9.99069219e-01],\n",
       "       [2.38649253e-03, 9.97613507e-01],\n",
       "       [9.85616231e-01, 1.43837689e-02],\n",
       "       [9.97475099e-01, 2.52490078e-03],\n",
       "       [9.44712142e-01, 5.52878577e-02],\n",
       "       [9.98062668e-01, 1.93733157e-03],\n",
       "       [9.96786435e-01, 3.21356511e-03],\n",
       "       [1.23934525e-03, 9.98760655e-01],\n",
       "       [9.91289829e-01, 8.71017060e-03],\n",
       "       [9.96747578e-01, 3.25242152e-03],\n",
       "       [9.93538536e-01, 6.46146420e-03],\n",
       "       [4.76974780e-02, 9.52302522e-01],\n",
       "       [9.98062668e-01, 1.93733157e-03],\n",
       "       [1.31431607e-05, 9.99986857e-01],\n",
       "       [9.94609697e-01, 5.39030285e-03],\n",
       "       [1.40589216e-03, 9.98594108e-01],\n",
       "       [9.98818509e-01, 1.18149133e-03],\n",
       "       [9.96562510e-01, 3.43748973e-03],\n",
       "       [9.91289829e-01, 8.71017060e-03],\n",
       "       [9.85444284e-01, 1.45557162e-02],\n",
       "       [9.94673958e-01, 5.32604182e-03],\n",
       "       [2.20179909e-05, 9.99977982e-01],\n",
       "       [4.04039443e-01, 5.95960557e-01],\n",
       "       [9.96738869e-01, 3.26113075e-03],\n",
       "       [9.94673958e-01, 5.32604182e-03],\n",
       "       [1.42353947e-02, 9.85764605e-01],\n",
       "       [9.98720688e-01, 1.27931218e-03],\n",
       "       [9.98818509e-01, 1.18149133e-03],\n",
       "       [9.85270312e-01, 1.47296882e-02],\n",
       "       [9.97031716e-01, 2.96828382e-03],\n",
       "       [4.62552563e-04, 9.99537447e-01],\n",
       "       [9.76335211e-01, 2.36647894e-02],\n",
       "       [2.08045760e-03, 9.97919542e-01],\n",
       "       [1.08151794e-05, 9.99989185e-01],\n",
       "       [9.91185099e-01, 8.81490079e-03],\n",
       "       [8.04678698e-03, 9.91953213e-01],\n",
       "       [9.24152786e-01, 7.58472139e-02],\n",
       "       [9.85493330e-01, 1.45066699e-02],\n",
       "       [9.95079682e-01, 4.92031775e-03],\n",
       "       [4.77836689e-02, 9.52216331e-01],\n",
       "       [9.74423565e-01, 2.55764346e-02],\n",
       "       [9.96824829e-01, 3.17517142e-03],\n",
       "       [1.87933903e-04, 9.99812066e-01],\n",
       "       [7.42695888e-05, 9.99925730e-01],\n",
       "       [9.07472545e-03, 9.90925275e-01],\n",
       "       [9.85444284e-01, 1.45557162e-02],\n",
       "       [9.98332354e-01, 1.66764554e-03],\n",
       "       [9.97497957e-01, 2.50204287e-03],\n",
       "       [9.97992464e-01, 2.00753645e-03],\n",
       "       [9.91289829e-01, 8.71017060e-03],\n",
       "       [6.57757943e-02, 9.34224206e-01],\n",
       "       [1.33211761e-02, 9.86678824e-01],\n",
       "       [9.91185099e-01, 8.81490079e-03],\n",
       "       [9.96835651e-01, 3.16434937e-03],\n",
       "       [1.03384356e-01, 8.96615644e-01],\n",
       "       [9.17566110e-01, 8.24338902e-02],\n",
       "       [9.95794042e-05, 9.99900421e-01],\n",
       "       [9.85616231e-01, 1.43837689e-02],\n",
       "       [9.85664706e-01, 1.43352936e-02],\n",
       "       [9.94673958e-01, 5.32604182e-03],\n",
       "       [2.82765782e-05, 9.99971723e-01],\n",
       "       [9.94737457e-01, 5.26254282e-03],\n",
       "       [9.76492964e-01, 2.35070364e-02],\n",
       "       [9.94673958e-01, 5.32604182e-03],\n",
       "       [9.86543589e-01, 1.34564112e-02],\n",
       "       [9.96679882e-01, 3.32011846e-03],\n",
       "       [4.53228619e-02, 9.54677138e-01],\n",
       "       [5.06240955e-02, 9.49375904e-01],\n",
       "       [2.54676222e-04, 9.99745324e-01],\n",
       "       [9.96786435e-01, 3.21356511e-03],\n",
       "       [9.97031716e-01, 2.96828382e-03],\n",
       "       [3.74165072e-03, 9.96258349e-01],\n",
       "       [2.77131729e-02, 9.72286827e-01],\n",
       "       [5.44460492e-02, 9.45553951e-01],\n",
       "       [9.94737457e-01, 5.26254282e-03],\n",
       "       [9.98062668e-01, 1.93733157e-03],\n",
       "       [9.93615485e-01, 6.38451517e-03],\n",
       "       [9.65003617e-05, 9.99903500e-01],\n",
       "       [9.79588027e-01, 2.04119728e-02],\n",
       "       [1.26714059e-02, 9.87328594e-01],\n",
       "       [9.98818509e-01, 1.18149133e-03],\n",
       "       [3.30724061e-02, 9.66927594e-01],\n",
       "       [9.85664706e-01, 1.43352936e-02],\n",
       "       [1.20816208e-02, 9.87918379e-01],\n",
       "       [2.66087943e-03, 9.97339121e-01],\n",
       "       [9.85054846e-01, 1.49451543e-02],\n",
       "       [9.94817890e-01, 5.18211013e-03],\n",
       "       [9.45972706e-01, 5.40272938e-02],\n",
       "       [9.96824829e-01, 3.17517142e-03],\n",
       "       [9.95317861e-01, 4.68213928e-03],\n",
       "       [2.80716740e-02, 9.71928326e-01],\n",
       "       [3.49395329e-03, 9.96506047e-01],\n",
       "       [3.78082785e-03, 9.96219172e-01],\n",
       "       [9.94673958e-01, 5.32604182e-03],\n",
       "       [9.27013647e-01, 7.29863531e-02],\n",
       "       [9.91079121e-01, 8.92087892e-03],\n",
       "       [1.84011607e-03, 9.98159884e-01],\n",
       "       [9.98818509e-01, 1.18149133e-03],\n",
       "       [4.15705411e-01, 5.84294589e-01],\n",
       "       [1.00073092e-02, 9.89992691e-01],\n",
       "       [9.98062668e-01, 1.93733157e-03],\n",
       "       [9.98062668e-01, 1.93733157e-03],\n",
       "       [9.94737457e-01, 5.26254282e-03],\n",
       "       [2.80641578e-04, 9.99719358e-01],\n",
       "       [6.87328249e-02, 9.31267175e-01],\n",
       "       [9.98039213e-01, 1.96078692e-03],\n",
       "       [3.56548884e-04, 9.99643451e-01],\n",
       "       [9.79567546e-01, 2.04324543e-02],\n",
       "       [9.96824829e-01, 3.17517142e-03],\n",
       "       [9.94609697e-01, 5.39030285e-03],\n",
       "       [9.66913295e-01, 3.30867049e-02],\n",
       "       [9.96786435e-01, 3.21356511e-03],\n",
       "       [9.76335211e-01, 2.36647894e-02],\n",
       "       [1.54334703e-02, 9.84566530e-01],\n",
       "       [8.20679917e-02, 9.17932008e-01],\n",
       "       [9.85616231e-01, 1.43837689e-02],\n",
       "       [9.89307943e-01, 1.06920569e-02],\n",
       "       [9.98818509e-01, 1.18149133e-03],\n",
       "       [9.76228178e-01, 2.37718217e-02],\n",
       "       [9.98720688e-01, 1.27931218e-03],\n",
       "       [3.68403507e-02, 9.63159649e-01],\n",
       "       [9.97956218e-01, 2.04378216e-03],\n",
       "       [9.98062668e-01, 1.93733157e-03],\n",
       "       [2.97406054e-04, 9.99702594e-01],\n",
       "       [9.96041899e-01, 3.95810058e-03],\n",
       "       [9.94673958e-01, 5.32604182e-03],\n",
       "       [5.07705009e-04, 9.99492295e-01],\n",
       "       [9.71402676e-01, 2.85973235e-02],\n",
       "       [5.49160292e-03, 9.94508397e-01],\n",
       "       [9.91079121e-01, 8.92087892e-03]])"
      ]
     },
     "execution_count": 106,
     "metadata": {},
     "output_type": "execute_result"
    }
   ],
   "source": [
    "y_pred_proba = log_reg.predict_proba(x_test)\n",
    "y_pred_proba"
   ]
  },
  {
   "cell_type": "code",
   "execution_count": 107,
   "id": "63de9810",
   "metadata": {},
   "outputs": [
    {
     "data": {
      "text/plain": [
       "array([0.0088149 , 0.07196451, 0.51080326, 0.00118149, 0.00953869,\n",
       "       0.99955486, 0.00325242, 0.97729215, 0.99088218, 0.00317517,\n",
       "       0.00910548, 0.02935156, 0.00193733, 0.5528757 , 0.01984538,\n",
       "       0.01721595, 0.99985282, 0.99346363, 0.99877596, 0.99726007,\n",
       "       0.94932171, 0.03800189, 0.0053903 , 0.03485444, 0.98671981,\n",
       "       0.00532604, 0.01428698, 0.99441113, 0.00118149, 0.99989937,\n",
       "       0.17915338, 0.00532604, 0.00727556, 0.01940115, 0.30856834,\n",
       "       0.00892088, 0.99962264, 0.0118836 , 0.00317517, 0.01438377,\n",
       "       0.97773001, 0.05676914, 0.00118149, 0.00196079, 0.01762389,\n",
       "       0.03688648, 0.00325242, 0.00193733, 0.01407057, 0.02311396,\n",
       "       0.01455572, 0.99727548, 0.98186218, 0.00759299, 0.00576503,\n",
       "       0.00526254, 0.00235337, 0.00532604, 0.45350491, 0.00532604,\n",
       "       0.99642853, 0.61176006, 0.85387545, 0.00118149, 0.99999358,\n",
       "       0.00118149, 0.00325242, 0.01641233, 0.9668735 , 0.02366479,\n",
       "       0.999922  , 0.95429867, 0.00193733, 0.0088149 , 0.00892088,\n",
       "       0.99906922, 0.99761351, 0.01438377, 0.0025249 , 0.05528786,\n",
       "       0.00193733, 0.00321357, 0.99876065, 0.00871017, 0.00325242,\n",
       "       0.00646146, 0.95230252, 0.00193733, 0.99998686, 0.0053903 ,\n",
       "       0.99859411, 0.00118149, 0.00343749, 0.00871017, 0.01455572,\n",
       "       0.00532604, 0.99997798, 0.59596056, 0.00326113, 0.00532604,\n",
       "       0.98576461, 0.00127931, 0.00118149, 0.01472969, 0.00296828,\n",
       "       0.99953745, 0.02366479, 0.99791954, 0.99998918, 0.0088149 ,\n",
       "       0.99195321, 0.07584721, 0.01450667, 0.00492032, 0.95221633,\n",
       "       0.02557643, 0.00317517, 0.99981207, 0.99992573, 0.99092527,\n",
       "       0.01455572, 0.00166765, 0.00250204, 0.00200754, 0.00871017,\n",
       "       0.93422421, 0.98667882, 0.0088149 , 0.00316435, 0.89661564,\n",
       "       0.08243389, 0.99990042, 0.01438377, 0.01433529, 0.00532604,\n",
       "       0.99997172, 0.00526254, 0.02350704, 0.00532604, 0.01345641,\n",
       "       0.00332012, 0.95467714, 0.9493759 , 0.99974532, 0.00321357,\n",
       "       0.00296828, 0.99625835, 0.97228683, 0.94555395, 0.00526254,\n",
       "       0.00193733, 0.00638452, 0.9999035 , 0.02041197, 0.98732859,\n",
       "       0.00118149, 0.96692759, 0.01433529, 0.98791838, 0.99733912,\n",
       "       0.01494515, 0.00518211, 0.05402729, 0.00317517, 0.00468214,\n",
       "       0.97192833, 0.99650605, 0.99621917, 0.00532604, 0.07298635,\n",
       "       0.00892088, 0.99815988, 0.00118149, 0.58429459, 0.98999269,\n",
       "       0.00193733, 0.00193733, 0.00526254, 0.99971936, 0.93126718,\n",
       "       0.00196079, 0.99964345, 0.02043245, 0.00317517, 0.0053903 ,\n",
       "       0.0330867 , 0.00321357, 0.02366479, 0.98456653, 0.91793201,\n",
       "       0.01438377, 0.01069206, 0.00118149, 0.02377182, 0.00127931,\n",
       "       0.96315965, 0.00204378, 0.00193733, 0.99970259, 0.0039581 ,\n",
       "       0.00532604, 0.99949229, 0.02859732, 0.9945084 , 0.00892088])"
      ]
     },
     "execution_count": 107,
     "metadata": {},
     "output_type": "execute_result"
    }
   ],
   "source": [
    "y_pred_proba[:,1]"
   ]
  },
  {
   "cell_type": "code",
   "execution_count": 108,
   "id": "65ee3dc8",
   "metadata": {},
   "outputs": [
    {
     "ename": "ValueError",
     "evalue": "Found input variables with inconsistent numbers of samples: [205, 478]",
     "output_type": "error",
     "traceback": [
      "\u001b[1;31m---------------------------------------------------------------------------\u001b[0m",
      "\u001b[1;31mValueError\u001b[0m                                Traceback (most recent call last)",
      "\u001b[1;32m~\\AppData\\Local\\Temp/ipykernel_15036/723807138.py\u001b[0m in \u001b[0;36m<module>\u001b[1;34m\u001b[0m\n\u001b[0;32m      1\u001b[0m \u001b[0mplt\u001b[0m\u001b[1;33m.\u001b[0m\u001b[0mfigure\u001b[0m\u001b[1;33m(\u001b[0m\u001b[0mfigsize\u001b[0m\u001b[1;33m=\u001b[0m\u001b[1;33m(\u001b[0m\u001b[1;36m6\u001b[0m\u001b[1;33m,\u001b[0m\u001b[1;36m4\u001b[0m\u001b[1;33m)\u001b[0m\u001b[1;33m)\u001b[0m\u001b[1;33m\u001b[0m\u001b[1;33m\u001b[0m\u001b[0m\n\u001b[1;32m----> 2\u001b[1;33m \u001b[0mcnf_matrix\u001b[0m \u001b[1;33m=\u001b[0m \u001b[0mconfusion_matrix\u001b[0m\u001b[1;33m(\u001b[0m\u001b[0my_test\u001b[0m\u001b[1;33m,\u001b[0m \u001b[0my_pred\u001b[0m\u001b[1;33m)\u001b[0m\u001b[1;33m\u001b[0m\u001b[1;33m\u001b[0m\u001b[0m\n\u001b[0m\u001b[0;32m      3\u001b[0m \u001b[0msns\u001b[0m\u001b[1;33m.\u001b[0m\u001b[0mheatmap\u001b[0m\u001b[1;33m(\u001b[0m\u001b[0mcnf_matrix\u001b[0m\u001b[1;33m,\u001b[0m \u001b[0mannot\u001b[0m\u001b[1;33m=\u001b[0m\u001b[1;32mTrue\u001b[0m\u001b[1;33m)\u001b[0m\u001b[1;33m\u001b[0m\u001b[1;33m\u001b[0m\u001b[0m\n",
      "\u001b[1;32m~\\anaconda3\\lib\\site-packages\\sklearn\\utils\\validation.py\u001b[0m in \u001b[0;36minner_f\u001b[1;34m(*args, **kwargs)\u001b[0m\n\u001b[0;32m     61\u001b[0m             \u001b[0mextra_args\u001b[0m \u001b[1;33m=\u001b[0m \u001b[0mlen\u001b[0m\u001b[1;33m(\u001b[0m\u001b[0margs\u001b[0m\u001b[1;33m)\u001b[0m \u001b[1;33m-\u001b[0m \u001b[0mlen\u001b[0m\u001b[1;33m(\u001b[0m\u001b[0mall_args\u001b[0m\u001b[1;33m)\u001b[0m\u001b[1;33m\u001b[0m\u001b[1;33m\u001b[0m\u001b[0m\n\u001b[0;32m     62\u001b[0m             \u001b[1;32mif\u001b[0m \u001b[0mextra_args\u001b[0m \u001b[1;33m<=\u001b[0m \u001b[1;36m0\u001b[0m\u001b[1;33m:\u001b[0m\u001b[1;33m\u001b[0m\u001b[1;33m\u001b[0m\u001b[0m\n\u001b[1;32m---> 63\u001b[1;33m                 \u001b[1;32mreturn\u001b[0m \u001b[0mf\u001b[0m\u001b[1;33m(\u001b[0m\u001b[1;33m*\u001b[0m\u001b[0margs\u001b[0m\u001b[1;33m,\u001b[0m \u001b[1;33m**\u001b[0m\u001b[0mkwargs\u001b[0m\u001b[1;33m)\u001b[0m\u001b[1;33m\u001b[0m\u001b[1;33m\u001b[0m\u001b[0m\n\u001b[0m\u001b[0;32m     64\u001b[0m \u001b[1;33m\u001b[0m\u001b[0m\n\u001b[0;32m     65\u001b[0m             \u001b[1;31m# extra_args > 0\u001b[0m\u001b[1;33m\u001b[0m\u001b[1;33m\u001b[0m\u001b[0m\n",
      "\u001b[1;32m~\\anaconda3\\lib\\site-packages\\sklearn\\metrics\\_classification.py\u001b[0m in \u001b[0;36mconfusion_matrix\u001b[1;34m(y_true, y_pred, labels, sample_weight, normalize)\u001b[0m\n\u001b[0;32m    297\u001b[0m \u001b[1;33m\u001b[0m\u001b[0m\n\u001b[0;32m    298\u001b[0m     \"\"\"\n\u001b[1;32m--> 299\u001b[1;33m     \u001b[0my_type\u001b[0m\u001b[1;33m,\u001b[0m \u001b[0my_true\u001b[0m\u001b[1;33m,\u001b[0m \u001b[0my_pred\u001b[0m \u001b[1;33m=\u001b[0m \u001b[0m_check_targets\u001b[0m\u001b[1;33m(\u001b[0m\u001b[0my_true\u001b[0m\u001b[1;33m,\u001b[0m \u001b[0my_pred\u001b[0m\u001b[1;33m)\u001b[0m\u001b[1;33m\u001b[0m\u001b[1;33m\u001b[0m\u001b[0m\n\u001b[0m\u001b[0;32m    300\u001b[0m     \u001b[1;32mif\u001b[0m \u001b[0my_type\u001b[0m \u001b[1;32mnot\u001b[0m \u001b[1;32min\u001b[0m \u001b[1;33m(\u001b[0m\u001b[1;34m\"binary\"\u001b[0m\u001b[1;33m,\u001b[0m \u001b[1;34m\"multiclass\"\u001b[0m\u001b[1;33m)\u001b[0m\u001b[1;33m:\u001b[0m\u001b[1;33m\u001b[0m\u001b[1;33m\u001b[0m\u001b[0m\n\u001b[0;32m    301\u001b[0m         \u001b[1;32mraise\u001b[0m \u001b[0mValueError\u001b[0m\u001b[1;33m(\u001b[0m\u001b[1;34m\"%s is not supported\"\u001b[0m \u001b[1;33m%\u001b[0m \u001b[0my_type\u001b[0m\u001b[1;33m)\u001b[0m\u001b[1;33m\u001b[0m\u001b[1;33m\u001b[0m\u001b[0m\n",
      "\u001b[1;32m~\\anaconda3\\lib\\site-packages\\sklearn\\metrics\\_classification.py\u001b[0m in \u001b[0;36m_check_targets\u001b[1;34m(y_true, y_pred)\u001b[0m\n\u001b[0;32m     81\u001b[0m     \u001b[0my_pred\u001b[0m \u001b[1;33m:\u001b[0m \u001b[0marray\u001b[0m \u001b[1;32mor\u001b[0m \u001b[0mindicator\u001b[0m \u001b[0mmatrix\u001b[0m\u001b[1;33m\u001b[0m\u001b[1;33m\u001b[0m\u001b[0m\n\u001b[0;32m     82\u001b[0m     \"\"\"\n\u001b[1;32m---> 83\u001b[1;33m     \u001b[0mcheck_consistent_length\u001b[0m\u001b[1;33m(\u001b[0m\u001b[0my_true\u001b[0m\u001b[1;33m,\u001b[0m \u001b[0my_pred\u001b[0m\u001b[1;33m)\u001b[0m\u001b[1;33m\u001b[0m\u001b[1;33m\u001b[0m\u001b[0m\n\u001b[0m\u001b[0;32m     84\u001b[0m     \u001b[0mtype_true\u001b[0m \u001b[1;33m=\u001b[0m \u001b[0mtype_of_target\u001b[0m\u001b[1;33m(\u001b[0m\u001b[0my_true\u001b[0m\u001b[1;33m)\u001b[0m\u001b[1;33m\u001b[0m\u001b[1;33m\u001b[0m\u001b[0m\n\u001b[0;32m     85\u001b[0m     \u001b[0mtype_pred\u001b[0m \u001b[1;33m=\u001b[0m \u001b[0mtype_of_target\u001b[0m\u001b[1;33m(\u001b[0m\u001b[0my_pred\u001b[0m\u001b[1;33m)\u001b[0m\u001b[1;33m\u001b[0m\u001b[1;33m\u001b[0m\u001b[0m\n",
      "\u001b[1;32m~\\anaconda3\\lib\\site-packages\\sklearn\\utils\\validation.py\u001b[0m in \u001b[0;36mcheck_consistent_length\u001b[1;34m(*arrays)\u001b[0m\n\u001b[0;32m    317\u001b[0m     \u001b[0muniques\u001b[0m \u001b[1;33m=\u001b[0m \u001b[0mnp\u001b[0m\u001b[1;33m.\u001b[0m\u001b[0munique\u001b[0m\u001b[1;33m(\u001b[0m\u001b[0mlengths\u001b[0m\u001b[1;33m)\u001b[0m\u001b[1;33m\u001b[0m\u001b[1;33m\u001b[0m\u001b[0m\n\u001b[0;32m    318\u001b[0m     \u001b[1;32mif\u001b[0m \u001b[0mlen\u001b[0m\u001b[1;33m(\u001b[0m\u001b[0muniques\u001b[0m\u001b[1;33m)\u001b[0m \u001b[1;33m>\u001b[0m \u001b[1;36m1\u001b[0m\u001b[1;33m:\u001b[0m\u001b[1;33m\u001b[0m\u001b[1;33m\u001b[0m\u001b[0m\n\u001b[1;32m--> 319\u001b[1;33m         raise ValueError(\"Found input variables with inconsistent numbers of\"\n\u001b[0m\u001b[0;32m    320\u001b[0m                          \" samples: %r\" % [int(l) for l in lengths])\n\u001b[0;32m    321\u001b[0m \u001b[1;33m\u001b[0m\u001b[0m\n",
      "\u001b[1;31mValueError\u001b[0m: Found input variables with inconsistent numbers of samples: [205, 478]"
     ]
    },
    {
     "data": {
      "text/plain": [
       "<Figure size 432x288 with 0 Axes>"
      ]
     },
     "metadata": {},
     "output_type": "display_data"
    }
   ],
   "source": [
    "plt.figure(figsize=(6,4))\n",
    "cnf_matrix = confusion_matrix(y_test, y_pred)\n",
    "sns.heatmap(cnf_matrix, annot=True)"
   ]
  },
  {
   "cell_type": "code",
   "execution_count": 109,
   "id": "6803b244",
   "metadata": {},
   "outputs": [
    {
     "ename": "NameError",
     "evalue": "name 'log_clf' is not defined",
     "output_type": "error",
     "traceback": [
      "\u001b[1;31m---------------------------------------------------------------------------\u001b[0m",
      "\u001b[1;31mNameError\u001b[0m                                 Traceback (most recent call last)",
      "\u001b[1;32m~\\AppData\\Local\\Temp/ipykernel_15036/4010979749.py\u001b[0m in \u001b[0;36m<module>\u001b[1;34m\u001b[0m\n\u001b[1;32m----> 1\u001b[1;33m \u001b[0my_pred_proba\u001b[0m \u001b[1;33m=\u001b[0m \u001b[0mlog_clf\u001b[0m\u001b[1;33m.\u001b[0m\u001b[0mpredict_proba\u001b[0m\u001b[1;33m(\u001b[0m\u001b[0mx_test\u001b[0m\u001b[1;33m)\u001b[0m\u001b[1;33m\u001b[0m\u001b[1;33m\u001b[0m\u001b[0m\n\u001b[0m\u001b[0;32m      2\u001b[0m \u001b[0my_pred_proba\u001b[0m\u001b[1;33m\u001b[0m\u001b[1;33m\u001b[0m\u001b[0m\n",
      "\u001b[1;31mNameError\u001b[0m: name 'log_clf' is not defined"
     ]
    }
   ],
   "source": [
    "y_pred_proba = log_clf.predict_proba(x_test)\n",
    "y_pred_proba"
   ]
  },
  {
   "cell_type": "code",
   "execution_count": 110,
   "id": "17495e77",
   "metadata": {},
   "outputs": [
    {
     "data": {
      "text/plain": [
       "array([1.99999358e+00, 9.99993584e-01, 9.77292146e-01, 9.72286827e-01,\n",
       "       8.96615644e-01, 8.53875447e-01, 5.84294589e-01, 5.52875703e-01,\n",
       "       4.53504906e-01, 1.79153382e-01, 8.24338902e-02, 3.80018875e-02,\n",
       "       3.68864831e-02, 2.37718217e-02, 2.36647894e-02, 1.47296882e-02,\n",
       "       1.45557162e-02, 1.45066699e-02, 1.43837689e-02, 1.43352936e-02,\n",
       "       9.10548312e-03, 8.81490079e-03, 8.71017060e-03, 5.76502763e-03,\n",
       "       5.39030285e-03, 5.32604182e-03, 5.26254282e-03, 3.26113075e-03,\n",
       "       3.25242152e-03, 3.21356511e-03, 3.17517142e-03, 3.16434937e-03,\n",
       "       2.96828382e-03, 2.00753645e-03, 1.96078692e-03, 1.93733157e-03,\n",
       "       1.66764554e-03, 1.27931218e-03, 1.18149133e-03])"
      ]
     },
     "execution_count": 110,
     "metadata": {},
     "output_type": "execute_result"
    }
   ],
   "source": [
    "fpr, tpr , thresh = roc_curve(y_test,y_pred_proba[:,1] )\n",
    "\n",
    "thresh"
   ]
  },
  {
   "cell_type": "code",
   "execution_count": 111,
   "id": "58ab56c6",
   "metadata": {},
   "outputs": [
    {
     "data": {
      "text/plain": [
       "Text(0, 0.5, 'True Positive Rate')"
      ]
     },
     "execution_count": 111,
     "metadata": {},
     "output_type": "execute_result"
    },
    {
     "data": {
      "image/png": "[encoded data removed]",
      "text/plain": [
       "<Figure size 432x288 with 1 Axes>"
      ]
     },
     "metadata": {
      "needs_background": "light"
     },
     "output_type": "display_data"
    }
   ],
   "source": [
    "plt.title('ROC Curve')\n",
    "plt.plot(fpr,tpr)\n",
    "plt.xlabel('False Positive Rate')\n",
    "plt.ylabel('True Positive Rate')"
   ]
  },
  {
   "cell_type": "code",
   "execution_count": 112,
   "id": "1294e600",
   "metadata": {},
   "outputs": [
    {
     "data": {
      "text/html": [
       "<div>\n",
       "<style scoped>\n",
       "    .dataframe tbody tr th:only-of-type {\n",
       "        vertical-align: middle;\n",
       "    }\n",
       "\n",
       "    .dataframe tbody tr th {\n",
       "        vertical-align: top;\n",
       "    }\n",
       "\n",
       "    .dataframe thead th {\n",
       "        text-align: right;\n",
       "    }\n",
       "</style>\n",
       "<table border=\"1\" class=\"dataframe\">\n",
       "  <thead>\n",
       "    <tr style=\"text-align: right;\">\n",
       "      <th></th>\n",
       "      <th>230</th>\n",
       "    </tr>\n",
       "  </thead>\n",
       "  <tbody>\n",
       "    <tr>\n",
       "      <th>Clump_Thickness</th>\n",
       "      <td>9.0</td>\n",
       "    </tr>\n",
       "    <tr>\n",
       "      <th>Uniformity_of_Cell_Size</th>\n",
       "      <td>8.0</td>\n",
       "    </tr>\n",
       "    <tr>\n",
       "      <th>Uniformity_of_Cell_Shape</th>\n",
       "      <td>8.0</td>\n",
       "    </tr>\n",
       "    <tr>\n",
       "      <th>Marginal_Adhesion</th>\n",
       "      <td>1.0</td>\n",
       "    </tr>\n",
       "    <tr>\n",
       "      <th>Single_Epithelial_Cell_Size</th>\n",
       "      <td>6.0</td>\n",
       "    </tr>\n",
       "    <tr>\n",
       "      <th>Bare_Nuclei</th>\n",
       "      <td>2.0</td>\n",
       "    </tr>\n",
       "    <tr>\n",
       "      <th>Bland_Chromatin</th>\n",
       "      <td>4.0</td>\n",
       "    </tr>\n",
       "    <tr>\n",
       "      <th>Normal_Nucleoli</th>\n",
       "      <td>1.0</td>\n",
       "    </tr>\n",
       "    <tr>\n",
       "      <th>Mitoses</th>\n",
       "      <td>1.0</td>\n",
       "    </tr>\n",
       "  </tbody>\n",
       "</table>\n",
       "</div>"
      ],
      "text/plain": [
       "                             230\n",
       "Clump_Thickness              9.0\n",
       "Uniformity_of_Cell_Size      8.0\n",
       "Uniformity_of_Cell_Shape     8.0\n",
       "Marginal_Adhesion            1.0\n",
       "Single_Epithelial_Cell_Size  6.0\n",
       "Bare_Nuclei                  2.0\n",
       "Bland_Chromatin              4.0\n",
       "Normal_Nucleoli              1.0\n",
       "Mitoses                      1.0"
      ]
     },
     "execution_count": 112,
     "metadata": {},
     "output_type": "execute_result"
    }
   ],
   "source": [
    "x.sample(1).T"
   ]
  },
  {
   "cell_type": "code",
   "execution_count": 115,
   "id": "d841ab23",
   "metadata": {},
   "outputs": [],
   "source": [
    "Clump_Thickness = 9.0\n",
    "Uniformity_of_Cell_Size = 9.0\n",
    "Uniformity_of_Cell_Shape = 7.0\n",
    "Marginal_Adhesion = 2.0\n",
    "Single_Epithelial_Cell_Size = 7.0\n",
    "Bare_Nuclei= 2.0\n",
    "Bland_Chromatin = 5.0\n",
    "Normal_Nucleoli = 2.0\n",
    "Mitoses = 1.0"
   ]
  },
  {
   "cell_type": "code",
   "execution_count": 116,
   "id": "b2d074c7",
   "metadata": {},
   "outputs": [],
   "source": [
    "test_array=np.array([Clump_Thickness,Uniformity_of_Cell_Size,Uniformity_of_Cell_Shape,Marginal_Adhesion,\n",
    "                     Single_Epithelial_Cell_Size,Bare_Nuclei,Bland_Chromatin,Normal_Nucleoli,Mitoses],ndmin=2)"
   ]
  },
  {
   "cell_type": "code",
   "execution_count": 117,
   "id": "9d6cb5f6",
   "metadata": {},
   "outputs": [
    {
     "data": {
      "text/plain": [
       "1"
      ]
     },
     "execution_count": 117,
     "metadata": {},
     "output_type": "execute_result"
    }
   ],
   "source": [
    "log_reg.predict(test_array)[0]"
   ]
  },
  {
   "cell_type": "code",
   "execution_count": 118,
   "id": "a7af246f",
   "metadata": {},
   "outputs": [
    {
     "data": {
      "text/plain": [
       "{'columns': ['Clump_Thickness',\n",
       "  'Uniformity_of_Cell_Size',\n",
       "  'Uniformity_of_Cell_Shape',\n",
       "  'Marginal_Adhesion',\n",
       "  'Single_Epithelial_Cell_Size',\n",
       "  'Bare_Nuclei',\n",
       "  'Bland_Chromatin',\n",
       "  'Normal_Nucleoli',\n",
       "  'Mitoses']}"
      ]
     },
     "execution_count": 118,
     "metadata": {},
     "output_type": "execute_result"
    }
   ],
   "source": [
    "project_data = {'columns': list(x.columns)}\n",
    "project_data"
   ]
  },
  {
   "cell_type": "code",
   "execution_count": 119,
   "id": "7c8cf798",
   "metadata": {},
   "outputs": [
    {
     "data": {
      "text/plain": [
       "array([9., 9., 7., 2., 7., 2., 5., 2., 1.])"
      ]
     },
     "execution_count": 119,
     "metadata": {},
     "output_type": "execute_result"
    }
   ],
   "source": [
    "test_array = np.zeros(x.shape[1])\n",
    "test_array[0] = Clump_Thickness\n",
    "test_array[1] = Uniformity_of_Cell_Size\n",
    "test_array[2] = Uniformity_of_Cell_Shape\n",
    "test_array[3] = Marginal_Adhesion\n",
    "test_array[4] = Single_Epithelial_Cell_Size\n",
    "test_array[5] = Bare_Nuclei\n",
    "test_array[6] = Bland_Chromatin\n",
    "test_array[7] = Normal_Nucleoli\n",
    "test_array[8] = Mitoses\n",
    "\n",
    "\n",
    "test_array"
   ]
  },
  {
   "cell_type": "code",
   "execution_count": 120,
   "id": "ae81bd9f",
   "metadata": {},
   "outputs": [
    {
     "name": "stdout",
     "output_type": "stream",
     "text": [
      "risk of Breast Cancer is : . [1]\n"
     ]
    }
   ],
   "source": [
    "result = log_reg.predict([test_array])\n",
    "print(f'risk of Breast Cancer is : .', result)"
   ]
  },
  {
   "cell_type": "code",
   "execution_count": 125,
   "id": "f1bd8837",
   "metadata": {},
   "outputs": [],
   "source": [
    "import pickle\n",
    "import json"
   ]
  },
  {
   "cell_type": "code",
   "execution_count": 122,
   "id": "dbdd8141",
   "metadata": {},
   "outputs": [],
   "source": [
    "with open('Log_model.pkl', 'wb') as f:\n",
    "    pickle.dump(log_reg, f)"
   ]
  },
  {
   "cell_type": "code",
   "execution_count": 126,
   "id": "d7f599d7",
   "metadata": {},
   "outputs": [],
   "source": [
    "with open('project_data.json', 'w') as f:\n",
    "    json.dump(project_data, f)"
   ]
  },
  {
   "cell_type": "code",
   "execution_count": null,
   "id": "31b172c6",
   "metadata": {},
   "outputs": [],
   "source": []
  }
 ],
 "metadata": {
  "kernelspec": {
   "display_name": "Python 3 (ipykernel)",
   "language": "python",
   "name": "python3"
  },
  "language_info": {
   "codemirror_mode": {
    "name": "ipython",
    "version": 3
   },
   "file_extension": ".py",
   "mimetype": "text/x-python",
   "name": "python",
   "nbconvert_exporter": "python",
   "pygments_lexer": "ipython3",
   "version": "3.9.7"
  }
 },
 "nbformat": 4,
 "nbformat_minor": 5
}
